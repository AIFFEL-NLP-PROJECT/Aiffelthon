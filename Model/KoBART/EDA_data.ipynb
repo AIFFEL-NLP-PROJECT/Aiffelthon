{
 "cells": [
  {
   "cell_type": "code",
   "execution_count": 40,
   "id": "1b4137b3",
   "metadata": {},
   "outputs": [],
   "source": [
    "# 필요한 라이브러리 불러오기\n",
    "import pandas as pd\n",
    "import numpy as np\n",
    "import re\n",
    "from tqdm import tqdm"
   ]
  },
  {
   "cell_type": "code",
   "execution_count": 41,
   "id": "606e9ebb",
   "metadata": {},
   "outputs": [],
   "source": [
    "train_df = pd.read_csv('data/train_df.csv')\n",
    "val_df = pd.read_csv('data/val_df.csv')"
   ]
  },
  {
   "cell_type": "code",
   "execution_count": 42,
   "id": "2625b622",
   "metadata": {},
   "outputs": [
    {
     "data": {
      "text/plain": [
       "\"['그럼 날짜는 가격 큰 변동 없으면 6.28-7.13로 확정할까?', '우리 비행포함 15일이야??', '16일! 아 #@이름#아 너 나한테 돈 보내주면 지금 할 수 잇옹', '얼마야 최종 결제액이?', '잠시만 인당 952,900 합쳐서 1,905,800 근데 나중에 특가 뜰 수도 있으려나..?', '좀 더 두고볼까? 뜨기야 뜨겠지,,', '웅웅 보니까 아시아나는 특가 이벤트 꽤 하는 것 같아서 일단 두고보장', '그래 구럼 일단 자자']\""
      ]
     },
     "execution_count": 42,
     "metadata": {},
     "output_type": "execute_result"
    }
   ],
   "source": [
    "train_df['Text'][0]"
   ]
  },
  {
   "cell_type": "code",
   "execution_count": 35,
   "id": "0d790bb9",
   "metadata": {},
   "outputs": [],
   "source": [
    "def preprocess_sentence(sentence):\n",
    "    sentence = sentence.lower() # 텍스트 소문자화\n",
    "    sentence = re.sub(r'\\([^)]*\\)', '', sentence) # 괄호로 닫힌 문자열 (..) 제거\n",
    "    sentence = re.sub(r'[#@]+[가-힣A-Za-z#]+', ' ', sentence)\n",
    "    sentence = re.sub(r'[ㄱ-ㅎㅏ-ㅣ]+[/ㄱ-ㅎㅏ-ㅣ]', '', sentence) # 여러개 자음과 모음을 삭제한다.\n",
    "    sentence = re.sub(\"[^가-힣a-z0-9]\", \" \", sentence) # 영어 외 문자(숫자, 특수문자 등) 공백으로 변환\n",
    "    sentence = re.sub(r'[\" \"]+', \" \", sentence) # 여러개 공백을 하나의 공백으로 바꿉니다.\n",
    "    sentence = sentence.strip() # 문장 양쪽 공백 제거\n",
    "\n",
    "    return sentence"
   ]
  },
  {
   "cell_type": "code",
   "execution_count": 36,
   "id": "6be986c7",
   "metadata": {},
   "outputs": [
    {
     "name": "stderr",
     "output_type": "stream",
     "text": [
      "100%|██████████| 279992/279992 [00:09<00:00, 28249.43it/s]\n",
      "100%|██████████| 279992/279992 [00:03<00:00, 76960.65it/s]\n"
     ]
    }
   ],
   "source": [
    "# 전체 Text 데이터에 대한 전처리 (1)\n",
    "train_text = []\n",
    "train_summary = []\n",
    "\n",
    "for tt in tqdm(train_df['Text']):\n",
    "    train_text.append(preprocess_sentence(tt))\n",
    "\n",
    "for ts in tqdm(train_df['Summary']):\n",
    "      train_summary.append(preprocess_sentence(ts))\n"
   ]
  },
  {
   "cell_type": "code",
   "execution_count": 37,
   "id": "00e5efee",
   "metadata": {},
   "outputs": [
    {
     "name": "stderr",
     "output_type": "stream",
     "text": [
      "100%|██████████| 35004/35004 [00:01<00:00, 28064.93it/s]\n",
      "100%|██████████| 35004/35004 [00:00<00:00, 75717.25it/s]\n"
     ]
    }
   ],
   "source": [
    "# 전체 Text 데이터에 대한 전처리 (1)\n",
    "val_text = []\n",
    "val_summary = []\n",
    "\n",
    "for vt in tqdm(val_df['Text']):\n",
    "    val_text.append(preprocess_sentence(vt))\n",
    "\n",
    "for vs in tqdm(val_df['Summary']):\n",
    "      val_summary.append(preprocess_sentence(vs))\n"
   ]
  },
  {
   "cell_type": "code",
   "execution_count": 38,
   "id": "b6c3e4d8",
   "metadata": {},
   "outputs": [],
   "source": [
    "train_df2 = pd.DataFrame(zip(train_text,train_summary), columns=['Text', 'Summary'])\n",
    "val_df2 = pd.DataFrame(zip(val_text,val_summary), columns=['Text', 'Summary'])"
   ]
  },
  {
   "cell_type": "code",
   "execution_count": 39,
   "id": "ded34ef9",
   "metadata": {},
   "outputs": [
    {
     "data": {
      "text/plain": [
       "'그럼 날짜는 가격 큰 변동 없으면 6.28-7.13로 확정할까 우리 비행포함 15일이야 16일 아 너 나한테 돈 보내주면 지금 할 수 잇옹 얼마야 최종 결제액이 잠시만 인당 952 900 합쳐서 1 905 800 근데 나중에 특가 뜰 수도 있으려나.. 좀 더 두고볼까 뜨기야 뜨겠지 웅웅 보니까 아시아나는 특가 이벤트 꽤 하는 것 같아서 일단 두고보장 그래 구럼 일단 자자'"
      ]
     },
     "execution_count": 39,
     "metadata": {},
     "output_type": "execute_result"
    }
   ],
   "source": [
    "train_df2['Text'][0]"
   ]
  },
  {
   "cell_type": "code",
   "execution_count": 26,
   "id": "7207742c",
   "metadata": {},
   "outputs": [],
   "source": [
    "train_df2['Text'].to_csv('data/train_text.csv',index = False)\n",
    "train_df2['Summary'].to_csv('data/train_summary.csv',index = False)\n",
    "val_df2['Text'].to_csv('data/val_text.csv',index = False)\n",
    "val_df2['Summary'].to_csv('data/val_summary.csv',index = False)"
   ]
  },
  {
   "cell_type": "code",
   "execution_count": 33,
   "id": "0d68c17f",
   "metadata": {},
   "outputs": [],
   "source": [
    "train_test = pd.read_csv('data/train_text.csv')"
   ]
  },
  {
   "cell_type": "code",
   "execution_count": 35,
   "id": "3cb56157",
   "metadata": {},
   "outputs": [
    {
     "data": {
      "text/plain": [
       "'그럼 날짜는 가격 큰 변동 없으면 6 28 7 13로 확정할까 우리 비행포함 15일이야 16일 아 너 나한테 돈 보내주면 지금 할 수 잇옹 얼마야 최종 결제액이 잠시만 인당 952 900 합쳐서 1 905 800 근데 나중에 특가 뜰 수도 있으려나 좀 더 두고볼까 뜨기야 뜨겠지 웅웅 보니까 아시아나는 특가 이벤트 꽤 하는 것 같아서 일단 두고보장 그래 구럼 일단 자자'"
      ]
     },
     "execution_count": 35,
     "metadata": {},
     "output_type": "execute_result"
    }
   ],
   "source": [
    "train_test['Text'][0]"
   ]
  },
  {
   "cell_type": "code",
   "execution_count": null,
   "id": "29bf0b7c",
   "metadata": {},
   "outputs": [],
   "source": []
  }
 ],
 "metadata": {
  "kernelspec": {
   "display_name": "Python 3 (ipykernel)",
   "language": "python",
   "name": "python3"
  },
  "language_info": {
   "codemirror_mode": {
    "name": "ipython",
    "version": 3
   },
   "file_extension": ".py",
   "mimetype": "text/x-python",
   "name": "python",
   "nbconvert_exporter": "python",
   "pygments_lexer": "ipython3",
   "version": "3.9.7"
  }
 },
 "nbformat": 4,
 "nbformat_minor": 5
}

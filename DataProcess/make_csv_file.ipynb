{
  "nbformat": 4,
  "nbformat_minor": 0,
  "metadata": {
    "colab": {
      "provenance": []
    },
    "kernelspec": {
      "name": "python3",
      "display_name": "Python 3"
    },
    "language_info": {
      "name": "python"
    }
  },
  "cells": [
    {
      "cell_type": "code",
      "source": [
        "from google.colab import drive\n",
        "drive.mount('/content/drive')"
      ],
      "metadata": {
        "colab": {
          "base_uri": "https://localhost:8080/"
        },
        "id": "1ZwNK_37E2Hu",
        "outputId": "f138727b-133e-4858-b12d-d2119ce64885"
      },
      "execution_count": null,
      "outputs": [
        {
          "output_type": "stream",
          "name": "stdout",
          "text": [
            "Drive already mounted at /content/drive; to attempt to forcibly remount, call drive.mount(\"/content/drive\", force_remount=True).\n"
          ]
        }
      ]
    },
    {
      "cell_type": "code",
      "source": [
        "import glob\n",
        "import json\n",
        "import os\n",
        "import pandas as pd\n",
        "from pprint import pprint"
      ],
      "metadata": {
        "id": "USxip6HkFMfX"
      },
      "execution_count": null,
      "outputs": []
    },
    {
      "cell_type": "code",
      "source": [
        "\n",
        "dirname = \"/content/drive/MyDrive/인공지능/아이펠톤/PoC/kt_data/valing\"\n",
        "filenames = os.listdir(dirname) \n",
        "train_full_filename = []\n",
        "\n",
        "for filename in filenames:\n",
        "    fn = os.path.join(dirname, filename)\n",
        "    if dirname + '/.ipynb_checkpoints' != fn:\n",
        "        train_full_filename.append(fn)\n",
        "  "
      ],
      "metadata": {
        "colab": {
          "base_uri": "https://localhost:8080/"
        },
        "id": "qfAAN-XvE3Dd",
        "outputId": "093b5752-f69e-44b2-e0e1-5980352a8da6"
      },
      "execution_count": null,
      "outputs": [
        {
          "output_type": "stream",
          "name": "stdout",
          "text": [
            "['/content/drive/MyDrive/인공지능/아이펠톤/PoC/kt_data/Training/상거래(쇼핑).json', '/content/drive/MyDrive/인공지능/아이펠톤/PoC/kt_data/Training/개인및관계.json', '/content/drive/MyDrive/인공지능/아이펠톤/PoC/kt_data/Training/식음료.json', '/content/drive/MyDrive/인공지능/아이펠톤/PoC/kt_data/Training/시사교육.json', '/content/drive/MyDrive/인공지능/아이펠톤/PoC/kt_data/Training/미용과건강.json', '/content/drive/MyDrive/인공지능/아이펠톤/PoC/kt_data/Training/일과직업.json', '/content/drive/MyDrive/인공지능/아이펠톤/PoC/kt_data/Training/여가생활.json', '/content/drive/MyDrive/인공지능/아이펠톤/PoC/kt_data/Training/주거와생활.json', '/content/drive/MyDrive/인공지능/아이펠톤/PoC/kt_data/Training/행사.json']\n",
            "\n"
          ]
        }
      ]
    },
    {
      "cell_type": "markdown",
      "source": [
        "## Json 구조 확인"
      ],
      "metadata": {
        "id": "qx_RhdQC32ZY"
      }
    },
    {
      "cell_type": "code",
      "source": [
        "f = open(train_full_filename[0],'r')\n",
        "print(f)"
      ],
      "metadata": {
        "colab": {
          "base_uri": "https://localhost:8080/"
        },
        "id": "EsCp6hrTFdYr",
        "outputId": "ec53f9fd-d728-45d7-ee7f-eecfadfb3904"
      },
      "execution_count": null,
      "outputs": [
        {
          "output_type": "stream",
          "name": "stdout",
          "text": [
            "<_io.TextIOWrapper name='/content/drive/MyDrive/인공지능/아이펠톤/PoC/kt_data/Training/상거래(쇼핑).json' mode='r' encoding='UTF-8'>\n"
          ]
        }
      ]
    },
    {
      "cell_type": "code",
      "source": [
        "js = json.loads(f.read())\n"
      ],
      "metadata": {
        "id": "4ReuIOt7FiGr"
      },
      "execution_count": null,
      "outputs": []
    },
    {
      "cell_type": "code",
      "source": [
        "pprint(js['data'][0])"
      ],
      "metadata": {
        "colab": {
          "base_uri": "https://localhost:8080/"
        },
        "id": "nhe1j4tdxX3Z",
        "outputId": "6d6a40db-b18c-4e02-a3e6-c0e479fecbc6"
      },
      "execution_count": null,
      "outputs": [
        {
          "output_type": "stream",
          "name": "stdout",
          "text": [
            "{'body': {'dialogue': [{'date': '2019-02-10',\n",
            "                        'participantID': 'P01',\n",
            "                        'time': '00:03:00',\n",
            "                        'turnID': 'T1',\n",
            "                        'utterance': '그럼 날짜는 가격 큰 변동 없으면 6.28-7.13로 확정할까?',\n",
            "                        'utteranceID': 'U1'},\n",
            "                       {'date': '2019-02-10',\n",
            "                        'participantID': 'P02',\n",
            "                        'time': '00:51:00',\n",
            "                        'turnID': 'T2',\n",
            "                        'utterance': '우리 비행포함 15일이야??',\n",
            "                        'utteranceID': 'U2'},\n",
            "                       {'date': '2019-02-10',\n",
            "                        'participantID': 'P01',\n",
            "                        'time': '00:53:00',\n",
            "                        'turnID': 'T3',\n",
            "                        'utterance': '16일!',\n",
            "                        'utteranceID': 'U3'},\n",
            "                       {'date': '2019-02-10',\n",
            "                        'participantID': 'P01',\n",
            "                        'time': '00:53:00',\n",
            "                        'turnID': 'T3',\n",
            "                        'utterance': '아 #@이름#아',\n",
            "                        'utteranceID': 'U4'},\n",
            "                       {'date': '2019-02-10',\n",
            "                        'participantID': 'P01',\n",
            "                        'time': '00:53:00',\n",
            "                        'turnID': 'T3',\n",
            "                        'utterance': '너 나한테 돈 보내주면 지금 할 수 잇옹',\n",
            "                        'utteranceID': 'U5'},\n",
            "                       {'date': '2019-02-10',\n",
            "                        'participantID': 'P02',\n",
            "                        'time': '00:57:00',\n",
            "                        'turnID': 'T4',\n",
            "                        'utterance': '얼마야 최종 결제액이?',\n",
            "                        'utteranceID': 'U6'},\n",
            "                       {'date': '2019-02-10',\n",
            "                        'participantID': 'P01',\n",
            "                        'time': '00:59:00',\n",
            "                        'turnID': 'T5',\n",
            "                        'utterance': '잠시만',\n",
            "                        'utteranceID': 'U7'},\n",
            "                       {'date': '2019-02-10',\n",
            "                        'participantID': 'P01',\n",
            "                        'time': '01:00:00',\n",
            "                        'turnID': 'T5',\n",
            "                        'utterance': '인당 952,900 합쳐서 1,905,800',\n",
            "                        'utteranceID': 'U8'},\n",
            "                       {'date': '2019-02-10',\n",
            "                        'participantID': 'P01',\n",
            "                        'time': '01:01:00',\n",
            "                        'turnID': 'T5',\n",
            "                        'utterance': '근데 나중에 특가 뜰 수도 있으려나..?',\n",
            "                        'utteranceID': 'U9'},\n",
            "                       {'date': '2019-02-10',\n",
            "                        'participantID': 'P02',\n",
            "                        'time': '01:01:00',\n",
            "                        'turnID': 'T6',\n",
            "                        'utterance': '좀 더 두고볼까?',\n",
            "                        'utteranceID': 'U10'},\n",
            "                       {'date': '2019-02-10',\n",
            "                        'participantID': 'P02',\n",
            "                        'time': '01:01:00',\n",
            "                        'turnID': 'T6',\n",
            "                        'utterance': '뜨기야 뜨겠지,,',\n",
            "                        'utteranceID': 'U11'},\n",
            "                       {'date': '2019-02-10',\n",
            "                        'participantID': 'P01',\n",
            "                        'time': '01:02:00',\n",
            "                        'turnID': 'T7',\n",
            "                        'utterance': '웅웅 보니까',\n",
            "                        'utteranceID': 'U12'},\n",
            "                       {'date': '2019-02-10',\n",
            "                        'participantID': 'P01',\n",
            "                        'time': '01:03:00',\n",
            "                        'turnID': 'T7',\n",
            "                        'utterance': '아시아나는 특가 이벤트 꽤 하는 것 같아서',\n",
            "                        'utteranceID': 'U13'},\n",
            "                       {'date': '2019-02-10',\n",
            "                        'participantID': 'P01',\n",
            "                        'time': '01:03:00',\n",
            "                        'turnID': 'T7',\n",
            "                        'utterance': '일단 두고보장',\n",
            "                        'utteranceID': 'U14'},\n",
            "                       {'date': '2019-02-10',\n",
            "                        'participantID': 'P02',\n",
            "                        'time': '01:03:00',\n",
            "                        'turnID': 'T8',\n",
            "                        'utterance': '그래 구럼',\n",
            "                        'utteranceID': 'U15'},\n",
            "                       {'date': '2019-02-10',\n",
            "                        'participantID': 'P02',\n",
            "                        'time': '01:03:00',\n",
            "                        'turnID': 'T8',\n",
            "                        'utterance': '일단 자자',\n",
            "                        'utteranceID': 'U16'}],\n",
            "          'summary': '비행기 표 가격에 대해 이야기하며, 특가 이벤트를 기다리고 있다.'},\n",
            " 'header': {'dialogueInfo': {'dialogueID': 'fd321028-d5b4-55f7-9e20-2eaa262f9154',\n",
            "                             'numberOfParticipants': 2,\n",
            "                             'numberOfTurns': 8,\n",
            "                             'numberOfUtterances': 16,\n",
            "                             'topic': '상거래(쇼핑)',\n",
            "                             'type': '일상 대화'},\n",
            "            'participantsInfo': [{'age': '20대',\n",
            "                                  'gender': '여성',\n",
            "                                  'participantID': 'P01',\n",
            "                                  'residentialProvince': '서울특별시'},\n",
            "                                 {'age': '20대',\n",
            "                                  'gender': '여성',\n",
            "                                  'participantID': 'P02',\n",
            "                                  'residentialProvince': '경기도'}]}}\n"
          ]
        }
      ]
    },
    {
      "cell_type": "code",
      "source": [
        "pprint(js['data'][0]['body'])"
      ],
      "metadata": {
        "colab": {
          "base_uri": "https://localhost:8080/"
        },
        "id": "Og-RrFrGxUTS",
        "outputId": "d57f8d5f-aa3c-4a4b-f114-a92d966b817c"
      },
      "execution_count": null,
      "outputs": [
        {
          "output_type": "stream",
          "name": "stdout",
          "text": [
            "{'dialogue': [{'date': '2019-02-10',\n",
            "               'participantID': 'P01',\n",
            "               'time': '00:03:00',\n",
            "               'turnID': 'T1',\n",
            "               'utterance': '그럼 날짜는 가격 큰 변동 없으면 6.28-7.13로 확정할까?',\n",
            "               'utteranceID': 'U1'},\n",
            "              {'date': '2019-02-10',\n",
            "               'participantID': 'P02',\n",
            "               'time': '00:51:00',\n",
            "               'turnID': 'T2',\n",
            "               'utterance': '우리 비행포함 15일이야??',\n",
            "               'utteranceID': 'U2'},\n",
            "              {'date': '2019-02-10',\n",
            "               'participantID': 'P01',\n",
            "               'time': '00:53:00',\n",
            "               'turnID': 'T3',\n",
            "               'utterance': '16일!',\n",
            "               'utteranceID': 'U3'},\n",
            "              {'date': '2019-02-10',\n",
            "               'participantID': 'P01',\n",
            "               'time': '00:53:00',\n",
            "               'turnID': 'T3',\n",
            "               'utterance': '아 #@이름#아',\n",
            "               'utteranceID': 'U4'},\n",
            "              {'date': '2019-02-10',\n",
            "               'participantID': 'P01',\n",
            "               'time': '00:53:00',\n",
            "               'turnID': 'T3',\n",
            "               'utterance': '너 나한테 돈 보내주면 지금 할 수 잇옹',\n",
            "               'utteranceID': 'U5'},\n",
            "              {'date': '2019-02-10',\n",
            "               'participantID': 'P02',\n",
            "               'time': '00:57:00',\n",
            "               'turnID': 'T4',\n",
            "               'utterance': '얼마야 최종 결제액이?',\n",
            "               'utteranceID': 'U6'},\n",
            "              {'date': '2019-02-10',\n",
            "               'participantID': 'P01',\n",
            "               'time': '00:59:00',\n",
            "               'turnID': 'T5',\n",
            "               'utterance': '잠시만',\n",
            "               'utteranceID': 'U7'},\n",
            "              {'date': '2019-02-10',\n",
            "               'participantID': 'P01',\n",
            "               'time': '01:00:00',\n",
            "               'turnID': 'T5',\n",
            "               'utterance': '인당 952,900 합쳐서 1,905,800',\n",
            "               'utteranceID': 'U8'},\n",
            "              {'date': '2019-02-10',\n",
            "               'participantID': 'P01',\n",
            "               'time': '01:01:00',\n",
            "               'turnID': 'T5',\n",
            "               'utterance': '근데 나중에 특가 뜰 수도 있으려나..?',\n",
            "               'utteranceID': 'U9'},\n",
            "              {'date': '2019-02-10',\n",
            "               'participantID': 'P02',\n",
            "               'time': '01:01:00',\n",
            "               'turnID': 'T6',\n",
            "               'utterance': '좀 더 두고볼까?',\n",
            "               'utteranceID': 'U10'},\n",
            "              {'date': '2019-02-10',\n",
            "               'participantID': 'P02',\n",
            "               'time': '01:01:00',\n",
            "               'turnID': 'T6',\n",
            "               'utterance': '뜨기야 뜨겠지,,',\n",
            "               'utteranceID': 'U11'},\n",
            "              {'date': '2019-02-10',\n",
            "               'participantID': 'P01',\n",
            "               'time': '01:02:00',\n",
            "               'turnID': 'T7',\n",
            "               'utterance': '웅웅 보니까',\n",
            "               'utteranceID': 'U12'},\n",
            "              {'date': '2019-02-10',\n",
            "               'participantID': 'P01',\n",
            "               'time': '01:03:00',\n",
            "               'turnID': 'T7',\n",
            "               'utterance': '아시아나는 특가 이벤트 꽤 하는 것 같아서',\n",
            "               'utteranceID': 'U13'},\n",
            "              {'date': '2019-02-10',\n",
            "               'participantID': 'P01',\n",
            "               'time': '01:03:00',\n",
            "               'turnID': 'T7',\n",
            "               'utterance': '일단 두고보장',\n",
            "               'utteranceID': 'U14'},\n",
            "              {'date': '2019-02-10',\n",
            "               'participantID': 'P02',\n",
            "               'time': '01:03:00',\n",
            "               'turnID': 'T8',\n",
            "               'utterance': '그래 구럼',\n",
            "               'utteranceID': 'U15'},\n",
            "              {'date': '2019-02-10',\n",
            "               'participantID': 'P02',\n",
            "               'time': '01:03:00',\n",
            "               'turnID': 'T8',\n",
            "               'utterance': '일단 자자',\n",
            "               'utteranceID': 'U16'}],\n",
            " 'summary': '비행기 표 가격에 대해 이야기하며, 특가 이벤트를 기다리고 있다.'}\n"
          ]
        }
      ]
    },
    {
      "cell_type": "code",
      "source": [
        "pprint(len(js['data'][0]['body']['dialogue']))"
      ],
      "metadata": {
        "colab": {
          "base_uri": "https://localhost:8080/"
        },
        "id": "KIkJFq6XxQTW",
        "outputId": "4e02bc10-31c6-4b02-cc28-d79fe7bf9e20"
      },
      "execution_count": null,
      "outputs": [
        {
          "output_type": "stream",
          "name": "stdout",
          "text": [
            "16\n"
          ]
        }
      ]
    },
    {
      "cell_type": "code",
      "source": [
        "pprint(js['data'][0]['body']['dialogue'])"
      ],
      "metadata": {
        "colab": {
          "base_uri": "https://localhost:8080/"
        },
        "id": "wLLR1jypA_Vz",
        "outputId": "100c2a44-821e-4e6f-a8d3-3464204f6430"
      },
      "execution_count": null,
      "outputs": [
        {
          "output_type": "stream",
          "name": "stdout",
          "text": [
            "[{'date': '2019-02-10',\n",
            "  'participantID': 'P01',\n",
            "  'time': '00:03:00',\n",
            "  'turnID': 'T1',\n",
            "  'utterance': '그럼 날짜는 가격 큰 변동 없으면 6.28-7.13로 확정할까?',\n",
            "  'utteranceID': 'U1'},\n",
            " {'date': '2019-02-10',\n",
            "  'participantID': 'P02',\n",
            "  'time': '00:51:00',\n",
            "  'turnID': 'T2',\n",
            "  'utterance': '우리 비행포함 15일이야??',\n",
            "  'utteranceID': 'U2'},\n",
            " {'date': '2019-02-10',\n",
            "  'participantID': 'P01',\n",
            "  'time': '00:53:00',\n",
            "  'turnID': 'T3',\n",
            "  'utterance': '16일!',\n",
            "  'utteranceID': 'U3'},\n",
            " {'date': '2019-02-10',\n",
            "  'participantID': 'P01',\n",
            "  'time': '00:53:00',\n",
            "  'turnID': 'T3',\n",
            "  'utterance': '아 #@이름#아',\n",
            "  'utteranceID': 'U4'},\n",
            " {'date': '2019-02-10',\n",
            "  'participantID': 'P01',\n",
            "  'time': '00:53:00',\n",
            "  'turnID': 'T3',\n",
            "  'utterance': '너 나한테 돈 보내주면 지금 할 수 잇옹',\n",
            "  'utteranceID': 'U5'},\n",
            " {'date': '2019-02-10',\n",
            "  'participantID': 'P02',\n",
            "  'time': '00:57:00',\n",
            "  'turnID': 'T4',\n",
            "  'utterance': '얼마야 최종 결제액이?',\n",
            "  'utteranceID': 'U6'},\n",
            " {'date': '2019-02-10',\n",
            "  'participantID': 'P01',\n",
            "  'time': '00:59:00',\n",
            "  'turnID': 'T5',\n",
            "  'utterance': '잠시만',\n",
            "  'utteranceID': 'U7'},\n",
            " {'date': '2019-02-10',\n",
            "  'participantID': 'P01',\n",
            "  'time': '01:00:00',\n",
            "  'turnID': 'T5',\n",
            "  'utterance': '인당 952,900 합쳐서 1,905,800',\n",
            "  'utteranceID': 'U8'},\n",
            " {'date': '2019-02-10',\n",
            "  'participantID': 'P01',\n",
            "  'time': '01:01:00',\n",
            "  'turnID': 'T5',\n",
            "  'utterance': '근데 나중에 특가 뜰 수도 있으려나..?',\n",
            "  'utteranceID': 'U9'},\n",
            " {'date': '2019-02-10',\n",
            "  'participantID': 'P02',\n",
            "  'time': '01:01:00',\n",
            "  'turnID': 'T6',\n",
            "  'utterance': '좀 더 두고볼까?',\n",
            "  'utteranceID': 'U10'},\n",
            " {'date': '2019-02-10',\n",
            "  'participantID': 'P02',\n",
            "  'time': '01:01:00',\n",
            "  'turnID': 'T6',\n",
            "  'utterance': '뜨기야 뜨겠지,,',\n",
            "  'utteranceID': 'U11'},\n",
            " {'date': '2019-02-10',\n",
            "  'participantID': 'P01',\n",
            "  'time': '01:02:00',\n",
            "  'turnID': 'T7',\n",
            "  'utterance': '웅웅 보니까',\n",
            "  'utteranceID': 'U12'},\n",
            " {'date': '2019-02-10',\n",
            "  'participantID': 'P01',\n",
            "  'time': '01:03:00',\n",
            "  'turnID': 'T7',\n",
            "  'utterance': '아시아나는 특가 이벤트 꽤 하는 것 같아서',\n",
            "  'utteranceID': 'U13'},\n",
            " {'date': '2019-02-10',\n",
            "  'participantID': 'P01',\n",
            "  'time': '01:03:00',\n",
            "  'turnID': 'T7',\n",
            "  'utterance': '일단 두고보장',\n",
            "  'utteranceID': 'U14'},\n",
            " {'date': '2019-02-10',\n",
            "  'participantID': 'P02',\n",
            "  'time': '01:03:00',\n",
            "  'turnID': 'T8',\n",
            "  'utterance': '그래 구럼',\n",
            "  'utteranceID': 'U15'},\n",
            " {'date': '2019-02-10',\n",
            "  'participantID': 'P02',\n",
            "  'time': '01:03:00',\n",
            "  'turnID': 'T8',\n",
            "  'utterance': '일단 자자',\n",
            "  'utteranceID': 'U16'}]\n"
          ]
        }
      ]
    },
    {
      "cell_type": "code",
      "source": [
        "pprint(js['data'][0]['body']['dialogue'][0])"
      ],
      "metadata": {
        "colab": {
          "base_uri": "https://localhost:8080/"
        },
        "id": "NiCBJAInxOTu",
        "outputId": "95c02699-48c2-45c8-c7b6-7bb8b01dc142"
      },
      "execution_count": null,
      "outputs": [
        {
          "output_type": "stream",
          "name": "stdout",
          "text": [
            "{'date': '2019-02-10',\n",
            " 'participantID': 'P01',\n",
            " 'time': '00:03:00',\n",
            " 'turnID': 'T1',\n",
            " 'utterance': '그럼 날짜는 가격 큰 변동 없으면 6.28-7.13로 확정할까?',\n",
            " 'utteranceID': 'U1'}\n"
          ]
        }
      ]
    },
    {
      "cell_type": "code",
      "source": [
        "pprint(js['data'][0]['body']['dialogue'][0]['utterance'])"
      ],
      "metadata": {
        "colab": {
          "base_uri": "https://localhost:8080/"
        },
        "id": "Eu6IMjnMI8Os",
        "outputId": "a5ded894-5737-4563-926c-7a56e72c4272"
      },
      "execution_count": null,
      "outputs": [
        {
          "output_type": "stream",
          "name": "stdout",
          "text": [
            "'그럼 날짜는 가격 큰 변동 없으면 6.28-7.13로 확정할까?'\n"
          ]
        }
      ]
    },
    {
      "cell_type": "code",
      "source": [
        "pprint(js['data'][0]['body']['summary'])"
      ],
      "metadata": {
        "colab": {
          "base_uri": "https://localhost:8080/"
        },
        "id": "Q6vrzZA6JAij",
        "outputId": "8240bc4f-2d36-4f00-f729-8738462b79a0"
      },
      "execution_count": null,
      "outputs": [
        {
          "output_type": "stream",
          "name": "stdout",
          "text": [
            "'비행기 표 가격에 대해 이야기하며, 특가 이벤트를 기다리고 있다.'\n"
          ]
        }
      ]
    },
    {
      "cell_type": "code",
      "source": [
        "pprint(js['data'][0]['header'])"
      ],
      "metadata": {
        "colab": {
          "base_uri": "https://localhost:8080/"
        },
        "id": "cONKZ3Pdxhw5",
        "outputId": "5415e403-0e78-4c54-c8b1-e4ba41c13e2c"
      },
      "execution_count": null,
      "outputs": [
        {
          "output_type": "stream",
          "name": "stdout",
          "text": [
            "{'dialogueInfo': {'dialogueID': 'fd321028-d5b4-55f7-9e20-2eaa262f9154',\n",
            "                  'numberOfParticipants': 2,\n",
            "                  'numberOfTurns': 8,\n",
            "                  'numberOfUtterances': 16,\n",
            "                  'topic': '상거래(쇼핑)',\n",
            "                  'type': '일상 대화'},\n",
            " 'participantsInfo': [{'age': '20대',\n",
            "                       'gender': '여성',\n",
            "                       'participantID': 'P01',\n",
            "                       'residentialProvince': '서울특별시'},\n",
            "                      {'age': '20대',\n",
            "                       'gender': '여성',\n",
            "                       'participantID': 'P02',\n",
            "                       'residentialProvince': '경기도'}]}\n"
          ]
        }
      ]
    },
    {
      "cell_type": "code",
      "source": [
        "pprint(js['data'][0]['header']['dialogueInfo'])"
      ],
      "metadata": {
        "colab": {
          "base_uri": "https://localhost:8080/"
        },
        "id": "CiYAgB3CxoAS",
        "outputId": "3fcf8b28-b697-4feb-f1f1-026c46dc5805"
      },
      "execution_count": null,
      "outputs": [
        {
          "output_type": "stream",
          "name": "stdout",
          "text": [
            "{'dialogueID': 'fd321028-d5b4-55f7-9e20-2eaa262f9154',\n",
            " 'numberOfParticipants': 2,\n",
            " 'numberOfTurns': 8,\n",
            " 'numberOfUtterances': 16,\n",
            " 'topic': '상거래(쇼핑)',\n",
            " 'type': '일상 대화'}\n"
          ]
        }
      ]
    },
    {
      "cell_type": "code",
      "source": [
        "pprint(js['data'][0]['header']['dialogueInfo']['topic'])"
      ],
      "metadata": {
        "colab": {
          "base_uri": "https://localhost:8080/"
        },
        "id": "bkS88jfqxsjS",
        "outputId": "a5f6d235-116d-4916-e8b8-e043833ac6b8"
      },
      "execution_count": null,
      "outputs": [
        {
          "output_type": "stream",
          "name": "stdout",
          "text": [
            "'상거래(쇼핑)'\n"
          ]
        }
      ]
    },
    {
      "cell_type": "code",
      "source": [
        "pprint(len(js['data'])/2)"
      ],
      "metadata": {
        "colab": {
          "base_uri": "https://localhost:8080/"
        },
        "id": "BM4HldcU4mIc",
        "outputId": "5896c190-1973-4204-8e50-dd5539502fc4"
      },
      "execution_count": null,
      "outputs": [
        {
          "output_type": "stream",
          "name": "stdout",
          "text": [
            "13149.0\n"
          ]
        }
      ]
    },
    {
      "cell_type": "markdown",
      "source": [
        "## 데이터 추출"
      ],
      "metadata": {
        "id": "Spi9T7VK35Nd"
      }
    },
    {
      "cell_type": "code",
      "source": [
        "train_summary = []\n",
        "train_passage = []\n",
        "category_name = []\n",
        "folder_list = []\n",
        "dirname = \"/content/drive/MyDrive/인공지능/아이펠톤/PoC/kt_data/Training\"\n",
        "filenames = os.listdir(dirname) \n",
        "train_full_filename = []\n",
        "\n",
        "for filename in filenames:\n",
        "    fn = os.path.join(dirname, filename)\n",
        "    if dirname + '/.ipynb_checkpoints' != fn:\n",
        "        train_full_filename.append(fn)"
      ],
      "metadata": {
        "id": "Ow5nt87p76o0"
      },
      "execution_count": null,
      "outputs": []
    },
    {
      "cell_type": "code",
      "source": [
        "topic = []\n",
        "Text = []\n",
        "Summary = [] "
      ],
      "metadata": {
        "id": "40h0XE-o4Zkj"
      },
      "execution_count": null,
      "outputs": []
    },
    {
      "cell_type": "markdown",
      "source": [
        "### training_1_header"
      ],
      "metadata": {
        "id": "3cTvkA8Z4JkD"
      }
    },
    {
      "cell_type": "code",
      "source": [
        "f = open(train_full_filename[0],'r')\n",
        "js = json.loads(f.read())"
      ],
      "metadata": {
        "id": "qS11NG0JyCT6"
      },
      "execution_count": null,
      "outputs": []
    },
    {
      "cell_type": "code",
      "source": [
        "for i in range(int(len(js['data']))):\n",
        "  topic.append(js['data'][i]['header']['dialogueInfo']['topic'])"
      ],
      "metadata": {
        "id": "EIXYLoIA6UPJ"
      },
      "execution_count": null,
      "outputs": []
    },
    {
      "cell_type": "code",
      "source": [
        "len(js['data'][i]['body']['dialogue'])"
      ],
      "metadata": {
        "colab": {
          "base_uri": "https://localhost:8080/"
        },
        "id": "q6mQsHSaCPYn",
        "outputId": "0f148dcc-e4f0-47bf-cab8-9c64d673b4af"
      },
      "execution_count": null,
      "outputs": [
        {
          "output_type": "execute_result",
          "data": {
            "text/plain": [
              "10"
            ]
          },
          "metadata": {},
          "execution_count": 63
        }
      ]
    },
    {
      "cell_type": "code",
      "source": [
        "js['data']['body']"
      ],
      "metadata": {
        "colab": {
          "base_uri": "https://localhost:8080/",
          "height": 172
        },
        "id": "sNxR80EEwOlK",
        "outputId": "530c4cda-0993-43cf-849e-718df6fec9df"
      },
      "execution_count": null,
      "outputs": [
        {
          "output_type": "error",
          "ename": "TypeError",
          "evalue": "ignored",
          "traceback": [
            "\u001b[0;31m---------------------------------------------------------------------------\u001b[0m",
            "\u001b[0;31mTypeError\u001b[0m                                 Traceback (most recent call last)",
            "\u001b[0;32m<ipython-input-22-c8cfa2f8d3d3>\u001b[0m in \u001b[0;36m<module>\u001b[0;34m\u001b[0m\n\u001b[0;32m----> 1\u001b[0;31m \u001b[0mjs\u001b[0m\u001b[0;34m[\u001b[0m\u001b[0;34m'data'\u001b[0m\u001b[0;34m]\u001b[0m\u001b[0;34m[\u001b[0m\u001b[0;34m'body'\u001b[0m\u001b[0;34m]\u001b[0m\u001b[0;34m\u001b[0m\u001b[0;34m\u001b[0m\u001b[0m\n\u001b[0m",
            "\u001b[0;31mTypeError\u001b[0m: list indices must be integers or slices, not str"
          ]
        }
      ]
    },
    {
      "cell_type": "markdown",
      "source": [
        "# 여기부터가 진짜"
      ],
      "metadata": {
        "id": "ViEuwkgP8E2V"
      }
    },
    {
      "cell_type": "code",
      "source": [
        "\n",
        "dirname = \"/content/drive/MyDrive/인공지능/아이펠톤/PoC/kt_data/Training\"\n",
        "filenames = os.listdir(dirname) \n",
        "train_full_filename = []\n",
        "\n",
        "for filename in filenames:\n",
        "    fn = os.path.join(dirname, filename)\n",
        "    if dirname + '/.ipynb_checkpoints' != fn:\n",
        "        train_full_filename.append(fn)"
      ],
      "metadata": {
        "id": "NXNGUgTM8HWJ"
      },
      "execution_count": null,
      "outputs": []
    },
    {
      "cell_type": "code",
      "source": [
        "dirname2 = \"/content/drive/MyDrive/인공지능/아이펠톤/PoC/kt_data/Validation\"\n",
        "filenames2 = os.listdir(dirname2) \n",
        "val_full_filename = []\n",
        "\n",
        "for filename in filenames2:\n",
        "    fn2 = os.path.join(dirname2, filename)\n",
        "    if dirname + '/.ipynb_checkpoints' != fn2:\n",
        "        val_full_filename.append(fn2)"
      ],
      "metadata": {
        "id": "DwgBM57H8IR1"
      },
      "execution_count": null,
      "outputs": []
    },
    {
      "cell_type": "code",
      "source": [
        "def load_json_data(path):\n",
        "\n",
        "    with open(path) as f:\n",
        "        data = json.load(f)\n",
        "\n",
        "    ids = []\n",
        "    dialogues = []\n",
        "    summaries = []\n",
        "    topic = []\n",
        "    for datum in data[\"data\"]:\n",
        "        ids.append(datum[\"header\"][\"dialogueInfo\"][\"dialogueID\"])\n",
        "\n",
        "        prev_speaker_id = None\n",
        "        prev_line = \"\"\n",
        "        utts = []\n",
        "        for dialogue in datum[\"body\"][\"dialogue\"]:\n",
        "            utterance = dialogue[\"utterance\"].strip()\n",
        "\n",
        "            if dialogue[\"participantID\"] == prev_speaker_id:\n",
        "                prev_line += \" \" + utterance\n",
        "            else:\n",
        "                if prev_line:\n",
        "                    utts.append(prev_line)\n",
        "                prev_line = utterance\n",
        "                prev_speaker_id = dialogue[\"participantID\"]\n",
        "        if prev_line:\n",
        "            utts.append(prev_line)\n",
        "\n",
        "        dialogues.append(utts)\n",
        "        summaries.append(datum[\"body\"].get(\"summary\"))\n",
        "\n",
        "    for i in range(len(data['data'])):\n",
        "      topic.append(data['data'][i]['header']['dialogueInfo']['topic'])\n",
        "    return ids, dialogues, summaries, topic"
      ],
      "metadata": {
        "id": "U33Ya69lxTxJ"
      },
      "execution_count": null,
      "outputs": []
    },
    {
      "cell_type": "code",
      "source": [
        "train1_ids, train1_dialogues, train1_summaries, train1_topic = load_json_data(train_full_filename[0])\n",
        "train2_ids, train2_dialogues, train2_summaries, train2_topic = load_json_data(train_full_filename[1])\n",
        "train3_ids, train3_dialogues, train3_summaries, train3_topic = load_json_data(train_full_filename[2])\n",
        "train4_ids, train4_dialogues, train4_summaries, train4_topic = load_json_data(train_full_filename[3])\n",
        "train5_ids, train5_dialogues, train5_summaries, train5_topic = load_json_data(train_full_filename[4])\n",
        "train6_ids, train6_dialogues, train6_summaries, train6_topic = load_json_data(train_full_filename[5])\n",
        "train7_ids, train7_dialogues, train7_summaries, train7_topic = load_json_data(train_full_filename[6])\n",
        "train8_ids, train8_dialogues, train8_summaries, train8_topic = load_json_data(train_full_filename[7])\n",
        "train9_ids, train9_dialogues, train9_summaries, train9_topic = load_json_data(train_full_filename[8])"
      ],
      "metadata": {
        "id": "pOkQR_4hxefT"
      },
      "execution_count": null,
      "outputs": []
    },
    {
      "cell_type": "code",
      "source": [
        "val1_ids, val1_dialogues, val1_summaries, val1_topic = load_json_data(val_full_filename[0])\n",
        "val2_ids, val2_dialogues, val2_summaries, val2_topic = load_json_data(val_full_filename[1])\n",
        "val3_ids, val3_dialogues, val3_summaries, val3_topic = load_json_data(val_full_filename[2])\n",
        "val4_ids, val4_dialogues, val4_summaries, val4_topic = load_json_data(val_full_filename[3])\n",
        "val5_ids, val5_dialogues, val5_summaries, val5_topic = load_json_data(val_full_filename[4])\n",
        "val6_ids, val6_dialogues, val6_summaries, val6_topic = load_json_data(val_full_filename[5])\n",
        "val7_ids, val7_dialogues, val7_summaries, val7_topic = load_json_data(val_full_filename[6])\n",
        "val8_ids, val8_dialogues, val8_summaries, val8_topic = load_json_data(val_full_filename[7])\n",
        "val9_ids, val9_dialogues, val9_summaries, val9_topic = load_json_data(val_full_filename[8])"
      ],
      "metadata": {
        "id": "e8liJPOe6e2W"
      },
      "execution_count": null,
      "outputs": []
    },
    {
      "cell_type": "code",
      "source": [
        "train1 = pd.DataFrame(zip(train1_ids, train1_dialogues , train1_summaries, train1_topic), columns=['Id','Text',  'Summary', 'Category'])\n",
        "train1.to_csv(\"/content/drive/MyDrive/인공지능/아이펠톤/PoC/kt_make_csv/train1.csv\", mode='w', index = False)\n",
        "train1 = pd.read_csv('/content/drive/MyDrive/인공지능/아이펠톤/PoC/kt_make_csv/train1.csv')\n",
        "train1.head()\n",
        "\n",
        "train2 = pd.DataFrame(zip(train2_ids, train2_dialogues , train2_summaries, train2_topic), columns=['Id','Text',  'Summary', 'Category'])\n",
        "train2.to_csv(\"/content/drive/MyDrive/인공지능/아이펠톤/PoC/kt_make_csv/train2.csv\", mode='w', index = False)\n",
        "train2 = pd.read_csv('/content/drive/MyDrive/인공지능/아이펠톤/PoC/kt_make_csv/train2.csv')\n",
        "train2.head()\n",
        "\n",
        "train3 = pd.DataFrame(zip(train3_ids, train3_dialogues , train3_summaries, train3_topic), columns=['Id','Text',  'Summary', 'Category'])\n",
        "train3.to_csv(\"/content/drive/MyDrive/인공지능/아이펠톤/PoC/kt_make_csv/train3.csv\", mode='w', index = False)\n",
        "train3 = pd.read_csv('/content/drive/MyDrive/인공지능/아이펠톤/PoC/kt_make_csv/train3.csv')\n",
        "train3.head()\n",
        "\n",
        "train4 = pd.DataFrame(zip(train4_ids, train4_dialogues , train4_summaries, train4_topic), columns=['Id','Text',  'Summary', 'Category'])\n",
        "train4.to_csv(\"/content/drive/MyDrive/인공지능/아이펠톤/PoC/kt_make_csv/train4.csv\", mode='w', index = False)\n",
        "train4 = pd.read_csv('/content/drive/MyDrive/인공지능/아이펠톤/PoC/kt_make_csv/train4.csv')\n",
        "train4.head()\n",
        "\n",
        "train5 = pd.DataFrame(zip(train5_ids, train5_dialogues , train5_summaries, train5_topic), columns=['Id','Text',  'Summary', 'Category'])\n",
        "train5.to_csv(\"/content/drive/MyDrive/인공지능/아이펠톤/PoC/kt_make_csv/train5.csv\", mode='w', index = False)\n",
        "train5 = pd.read_csv('/content/drive/MyDrive/인공지능/아이펠톤/PoC/kt_make_csv/train5.csv')\n",
        "train5.head()\n",
        "\n",
        "train6 = pd.DataFrame(zip(train6_ids, train6_dialogues , train6_summaries, train6_topic), columns=['Id','Text',  'Summary', 'Category'])\n",
        "train6.to_csv(\"/content/drive/MyDrive/인공지능/아이펠톤/PoC/kt_make_csv/train6.csv\", mode='w', index = False)\n",
        "train6 = pd.read_csv('/content/drive/MyDrive/인공지능/아이펠톤/PoC/kt_make_csv/train6.csv')\n",
        "train6.head()\n",
        "\n",
        "train7 = pd.DataFrame(zip(train7_ids, train7_dialogues , train7_summaries, train7_topic), columns=['Id','Text',  'Summary', 'Category'])\n",
        "train7.to_csv(\"/content/drive/MyDrive/인공지능/아이펠톤/PoC/kt_make_csv/train7.csv\", mode='w', index = False)\n",
        "train7 = pd.read_csv('/content/drive/MyDrive/인공지능/아이펠톤/PoC/kt_make_csv/train7.csv')\n",
        "train7.head()\n",
        "\n",
        "train8 = pd.DataFrame(zip(train8_ids, train8_dialogues , train8_summaries, train8_topic), columns=['Id','Text',  'Summary', 'Category'])\n",
        "train8.to_csv(\"/content/drive/MyDrive/인공지능/아이펠톤/PoC/kt_make_csv/train8.csv\", mode='w', index = False)\n",
        "train8 = pd.read_csv('/content/drive/MyDrive/인공지능/아이펠톤/PoC/kt_make_csv/train8.csv')\n",
        "train8.head()\n",
        "\n",
        "train9 = pd.DataFrame(zip(train9_ids, train9_dialogues , train9_summaries, train9_topic), columns=['Id','Text',  'Summary', 'Category'])\n",
        "train9.to_csv(\"/content/drive/MyDrive/인공지능/아이펠톤/PoC/kt_make_csv/train9.csv\", mode='w', index = False)\n",
        "train9 = pd.read_csv('/content/drive/MyDrive/인공지능/아이펠톤/PoC/kt_make_csv/train9.csv')\n",
        "train9.head()"
      ],
      "metadata": {
        "colab": {
          "base_uri": "https://localhost:8080/",
          "height": 250
        },
        "id": "0TpuQzi98dFX",
        "outputId": "8a10de1e-b014-4d63-e597-698ffdbe2a98"
      },
      "execution_count": null,
      "outputs": [
        {
          "output_type": "execute_result",
          "data": {
            "text/plain": [
              "                                     Id  \\\n",
              "0  11b72f7e-d9ae-503f-8dfd-0c8be7bcc6da   \n",
              "1  b32fbecf-2b0f-59e8-bf39-f90e9aede282   \n",
              "2  22e7c5d5-cf83-5b27-ba43-f6e1f980fc85   \n",
              "3  e724dd4b-d8af-55fc-b060-1212997a7ccf   \n",
              "4  199940cc-cca0-56d2-8dd8-30ba4afd24be   \n",
              "\n",
              "                                                Text  \\\n",
              "0  ['ㅋㅋㅋ오빠 오늘 보자고 하려했죠', '음.... 너가 1박2일 스케줄을 2박3일...   \n",
              "1  ['난 낼도 약속 이써', '누구만남', 'ㅋㅋㅋㅋ 아 #@소속# 같이 일하는 사람...   \n",
              "2  ['ㅋㅋㅋ 렌트카 예약했어 모닝으로ㅋㅋㅋ', '오 빨라 빨라!! 8시에 가두 된댕?...   \n",
              "3  ['렌터카는 확정했어', '우앙 니싼', '28만원인데', '좋앙 헿', '기아 모...   \n",
              "4  ['다음 주 유ㅓㄹ화 다 시간 괜찮??', 'ㅇㅇ갠춘', '이번주 금욜은 한명 휴가...   \n",
              "\n",
              "                                             Summary Category  \n",
              "0           오늘 오빠를 보려고 했는데 집들이를 2박 3일로 늘렸기 때문에 피곤하다.       행사  \n",
              "1  내일 같이 일하는 사람이랑 만나서 밥을 먹고 수다를 떨이기로 했는데 친구가 신기하다...       행사  \n",
              "2                        경차가 가스 덜먹으니 렌터카로 모닝을 예약하였다.       행사  \n",
              "3  렌터카는 닛산(니싼) 28만 원으로 확정했는데 기아 모닝이 26만 원이라 싸게 잘 ...       행사  \n",
              "4         언니와 영주에 갈 일정을 조정하며 언니에게 차 배터리를 바꿔준다고 제안한다.       행사  "
            ],
            "text/html": [
              "\n",
              "  <div id=\"df-9e119b40-60d5-4c20-84fd-0d64c773754f\">\n",
              "    <div class=\"colab-df-container\">\n",
              "      <div>\n",
              "<style scoped>\n",
              "    .dataframe tbody tr th:only-of-type {\n",
              "        vertical-align: middle;\n",
              "    }\n",
              "\n",
              "    .dataframe tbody tr th {\n",
              "        vertical-align: top;\n",
              "    }\n",
              "\n",
              "    .dataframe thead th {\n",
              "        text-align: right;\n",
              "    }\n",
              "</style>\n",
              "<table border=\"1\" class=\"dataframe\">\n",
              "  <thead>\n",
              "    <tr style=\"text-align: right;\">\n",
              "      <th></th>\n",
              "      <th>Id</th>\n",
              "      <th>Text</th>\n",
              "      <th>Summary</th>\n",
              "      <th>Category</th>\n",
              "    </tr>\n",
              "  </thead>\n",
              "  <tbody>\n",
              "    <tr>\n",
              "      <th>0</th>\n",
              "      <td>11b72f7e-d9ae-503f-8dfd-0c8be7bcc6da</td>\n",
              "      <td>['ㅋㅋㅋ오빠 오늘 보자고 하려했죠', '음.... 너가 1박2일 스케줄을 2박3일...</td>\n",
              "      <td>오늘 오빠를 보려고 했는데 집들이를 2박 3일로 늘렸기 때문에 피곤하다.</td>\n",
              "      <td>행사</td>\n",
              "    </tr>\n",
              "    <tr>\n",
              "      <th>1</th>\n",
              "      <td>b32fbecf-2b0f-59e8-bf39-f90e9aede282</td>\n",
              "      <td>['난 낼도 약속 이써', '누구만남', 'ㅋㅋㅋㅋ 아 #@소속# 같이 일하는 사람...</td>\n",
              "      <td>내일 같이 일하는 사람이랑 만나서 밥을 먹고 수다를 떨이기로 했는데 친구가 신기하다...</td>\n",
              "      <td>행사</td>\n",
              "    </tr>\n",
              "    <tr>\n",
              "      <th>2</th>\n",
              "      <td>22e7c5d5-cf83-5b27-ba43-f6e1f980fc85</td>\n",
              "      <td>['ㅋㅋㅋ 렌트카 예약했어 모닝으로ㅋㅋㅋ', '오 빨라 빨라!! 8시에 가두 된댕?...</td>\n",
              "      <td>경차가 가스 덜먹으니 렌터카로 모닝을 예약하였다.</td>\n",
              "      <td>행사</td>\n",
              "    </tr>\n",
              "    <tr>\n",
              "      <th>3</th>\n",
              "      <td>e724dd4b-d8af-55fc-b060-1212997a7ccf</td>\n",
              "      <td>['렌터카는 확정했어', '우앙 니싼', '28만원인데', '좋앙 헿', '기아 모...</td>\n",
              "      <td>렌터카는 닛산(니싼) 28만 원으로 확정했는데 기아 모닝이 26만 원이라 싸게 잘 ...</td>\n",
              "      <td>행사</td>\n",
              "    </tr>\n",
              "    <tr>\n",
              "      <th>4</th>\n",
              "      <td>199940cc-cca0-56d2-8dd8-30ba4afd24be</td>\n",
              "      <td>['다음 주 유ㅓㄹ화 다 시간 괜찮??', 'ㅇㅇ갠춘', '이번주 금욜은 한명 휴가...</td>\n",
              "      <td>언니와 영주에 갈 일정을 조정하며 언니에게 차 배터리를 바꿔준다고 제안한다.</td>\n",
              "      <td>행사</td>\n",
              "    </tr>\n",
              "  </tbody>\n",
              "</table>\n",
              "</div>\n",
              "      <button class=\"colab-df-convert\" onclick=\"convertToInteractive('df-9e119b40-60d5-4c20-84fd-0d64c773754f')\"\n",
              "              title=\"Convert this dataframe to an interactive table.\"\n",
              "              style=\"display:none;\">\n",
              "        \n",
              "  <svg xmlns=\"http://www.w3.org/2000/svg\" height=\"24px\"viewBox=\"0 0 24 24\"\n",
              "       width=\"24px\">\n",
              "    <path d=\"M0 0h24v24H0V0z\" fill=\"none\"/>\n",
              "    <path d=\"M18.56 5.44l.94 2.06.94-2.06 2.06-.94-2.06-.94-.94-2.06-.94 2.06-2.06.94zm-11 1L8.5 8.5l.94-2.06 2.06-.94-2.06-.94L8.5 2.5l-.94 2.06-2.06.94zm10 10l.94 2.06.94-2.06 2.06-.94-2.06-.94-.94-2.06-.94 2.06-2.06.94z\"/><path d=\"M17.41 7.96l-1.37-1.37c-.4-.4-.92-.59-1.43-.59-.52 0-1.04.2-1.43.59L10.3 9.45l-7.72 7.72c-.78.78-.78 2.05 0 2.83L4 21.41c.39.39.9.59 1.41.59.51 0 1.02-.2 1.41-.59l7.78-7.78 2.81-2.81c.8-.78.8-2.07 0-2.86zM5.41 20L4 18.59l7.72-7.72 1.47 1.35L5.41 20z\"/>\n",
              "  </svg>\n",
              "      </button>\n",
              "      \n",
              "  <style>\n",
              "    .colab-df-container {\n",
              "      display:flex;\n",
              "      flex-wrap:wrap;\n",
              "      gap: 12px;\n",
              "    }\n",
              "\n",
              "    .colab-df-convert {\n",
              "      background-color: #E8F0FE;\n",
              "      border: none;\n",
              "      border-radius: 50%;\n",
              "      cursor: pointer;\n",
              "      display: none;\n",
              "      fill: #1967D2;\n",
              "      height: 32px;\n",
              "      padding: 0 0 0 0;\n",
              "      width: 32px;\n",
              "    }\n",
              "\n",
              "    .colab-df-convert:hover {\n",
              "      background-color: #E2EBFA;\n",
              "      box-shadow: 0px 1px 2px rgba(60, 64, 67, 0.3), 0px 1px 3px 1px rgba(60, 64, 67, 0.15);\n",
              "      fill: #174EA6;\n",
              "    }\n",
              "\n",
              "    [theme=dark] .colab-df-convert {\n",
              "      background-color: #3B4455;\n",
              "      fill: #D2E3FC;\n",
              "    }\n",
              "\n",
              "    [theme=dark] .colab-df-convert:hover {\n",
              "      background-color: #434B5C;\n",
              "      box-shadow: 0px 1px 3px 1px rgba(0, 0, 0, 0.15);\n",
              "      filter: drop-shadow(0px 1px 2px rgba(0, 0, 0, 0.3));\n",
              "      fill: #FFFFFF;\n",
              "    }\n",
              "  </style>\n",
              "\n",
              "      <script>\n",
              "        const buttonEl =\n",
              "          document.querySelector('#df-9e119b40-60d5-4c20-84fd-0d64c773754f button.colab-df-convert');\n",
              "        buttonEl.style.display =\n",
              "          google.colab.kernel.accessAllowed ? 'block' : 'none';\n",
              "\n",
              "        async function convertToInteractive(key) {\n",
              "          const element = document.querySelector('#df-9e119b40-60d5-4c20-84fd-0d64c773754f');\n",
              "          const dataTable =\n",
              "            await google.colab.kernel.invokeFunction('convertToInteractive',\n",
              "                                                     [key], {});\n",
              "          if (!dataTable) return;\n",
              "\n",
              "          const docLinkHtml = 'Like what you see? Visit the ' +\n",
              "            '<a target=\"_blank\" href=https://colab.research.google.com/notebooks/data_table.ipynb>data table notebook</a>'\n",
              "            + ' to learn more about interactive tables.';\n",
              "          element.innerHTML = '';\n",
              "          dataTable['output_type'] = 'display_data';\n",
              "          await google.colab.output.renderOutput(dataTable, element);\n",
              "          const docLink = document.createElement('div');\n",
              "          docLink.innerHTML = docLinkHtml;\n",
              "          element.appendChild(docLink);\n",
              "        }\n",
              "      </script>\n",
              "    </div>\n",
              "  </div>\n",
              "  "
            ]
          },
          "metadata": {},
          "execution_count": 12
        }
      ]
    },
    {
      "cell_type": "code",
      "source": [
        "train_total = pd.concat([train1, train2, train3, train4, train5, train6, train7, train8, train9])\n",
        "train_total.to_csv(\"/content/drive/MyDrive/인공지능/아이펠톤/PoC/kt_make_csv/train_total.csv\", mode='w', index = False)\n",
        "\n",
        "train_total = pd.read_csv('/content/drive/MyDrive/인공지능/아이펠톤/PoC/kt_make_csv/train_total.csv')\n",
        "train_total.head()"
      ],
      "metadata": {
        "colab": {
          "base_uri": "https://localhost:8080/",
          "height": 337
        },
        "id": "XWqSsmBM-U1b",
        "outputId": "a3df6717-9314-4c00-a4d0-5ea8ac2f8be1"
      },
      "execution_count": null,
      "outputs": [
        {
          "output_type": "execute_result",
          "data": {
            "text/plain": [
              "                                     Id  \\\n",
              "0  fd321028-d5b4-55f7-9e20-2eaa262f9154   \n",
              "1  c51be2e4-c8d0-5cea-b1ae-cde1fe8f8ab6   \n",
              "2  e90e721f-00d1-5114-aa5d-5f1061472a29   \n",
              "3  b215f3a2-d647-59f9-8410-1274ee5edd97   \n",
              "4  0bda61b6-1396-5a2a-a049-0b4035e40d59   \n",
              "\n",
              "                                                Text  \\\n",
              "0  ['그럼 날짜는 가격 큰 변동 없으면 6.28-7.13로 확정할까?', '우리 비행...   \n",
              "1  ['Kf마스크만 5부제 하는거지?', '응. 면마스크는 아무때나 사도될껀?', '면...   \n",
              "2  ['아 근데 케이크 업체들 봤는데 중앙동쪽 거기는 맛만있고 디자인은 그냥그런것같애'...   \n",
              "3  ['칫솔사야하는데 쓱으로 살까?', '뭘 칫솔사는것까지 물어보시남ㅋㅋㅋ', '아 그...   \n",
              "4  ['잠도안오네ㅐ얼릉 고구마츄 먹고싶단', '그게 그렇게 맛있었어??? 아주 여보 빼...   \n",
              "\n",
              "                                             Summary Category  \n",
              "0               비행기 표 가격에 대해 이야기하며, 특가 이벤트를 기다리고 있다.  상거래(쇼핑)  \n",
              "1                비염이 있어서 싸게 나온 일회용 부직포 마스크를 사두려고 한다.  상거래(쇼핑)  \n",
              "2  케이크 업체 중 중앙동 쪽은 맛만 있고 디자인은 별로고 고잔동 케이크 업체는 배달도...  상거래(쇼핑)  \n",
              "3            칫솔을 3개월에 하나씩 바꿔서 왕 칫솔 사러 신세계(쓱) 가자고 했다.  상거래(쇼핑)  \n",
              "4                  잠도 안 와서 고구마 말랭이를 양심상 하나만 먹으려고 한다.  상거래(쇼핑)  "
            ],
            "text/html": [
              "\n",
              "  <div id=\"df-088c7b48-13e4-4229-a62f-71160568ac82\">\n",
              "    <div class=\"colab-df-container\">\n",
              "      <div>\n",
              "<style scoped>\n",
              "    .dataframe tbody tr th:only-of-type {\n",
              "        vertical-align: middle;\n",
              "    }\n",
              "\n",
              "    .dataframe tbody tr th {\n",
              "        vertical-align: top;\n",
              "    }\n",
              "\n",
              "    .dataframe thead th {\n",
              "        text-align: right;\n",
              "    }\n",
              "</style>\n",
              "<table border=\"1\" class=\"dataframe\">\n",
              "  <thead>\n",
              "    <tr style=\"text-align: right;\">\n",
              "      <th></th>\n",
              "      <th>Id</th>\n",
              "      <th>Text</th>\n",
              "      <th>Summary</th>\n",
              "      <th>Category</th>\n",
              "    </tr>\n",
              "  </thead>\n",
              "  <tbody>\n",
              "    <tr>\n",
              "      <th>0</th>\n",
              "      <td>fd321028-d5b4-55f7-9e20-2eaa262f9154</td>\n",
              "      <td>['그럼 날짜는 가격 큰 변동 없으면 6.28-7.13로 확정할까?', '우리 비행...</td>\n",
              "      <td>비행기 표 가격에 대해 이야기하며, 특가 이벤트를 기다리고 있다.</td>\n",
              "      <td>상거래(쇼핑)</td>\n",
              "    </tr>\n",
              "    <tr>\n",
              "      <th>1</th>\n",
              "      <td>c51be2e4-c8d0-5cea-b1ae-cde1fe8f8ab6</td>\n",
              "      <td>['Kf마스크만 5부제 하는거지?', '응. 면마스크는 아무때나 사도될껀?', '면...</td>\n",
              "      <td>비염이 있어서 싸게 나온 일회용 부직포 마스크를 사두려고 한다.</td>\n",
              "      <td>상거래(쇼핑)</td>\n",
              "    </tr>\n",
              "    <tr>\n",
              "      <th>2</th>\n",
              "      <td>e90e721f-00d1-5114-aa5d-5f1061472a29</td>\n",
              "      <td>['아 근데 케이크 업체들 봤는데 중앙동쪽 거기는 맛만있고 디자인은 그냥그런것같애'...</td>\n",
              "      <td>케이크 업체 중 중앙동 쪽은 맛만 있고 디자인은 별로고 고잔동 케이크 업체는 배달도...</td>\n",
              "      <td>상거래(쇼핑)</td>\n",
              "    </tr>\n",
              "    <tr>\n",
              "      <th>3</th>\n",
              "      <td>b215f3a2-d647-59f9-8410-1274ee5edd97</td>\n",
              "      <td>['칫솔사야하는데 쓱으로 살까?', '뭘 칫솔사는것까지 물어보시남ㅋㅋㅋ', '아 그...</td>\n",
              "      <td>칫솔을 3개월에 하나씩 바꿔서 왕 칫솔 사러 신세계(쓱) 가자고 했다.</td>\n",
              "      <td>상거래(쇼핑)</td>\n",
              "    </tr>\n",
              "    <tr>\n",
              "      <th>4</th>\n",
              "      <td>0bda61b6-1396-5a2a-a049-0b4035e40d59</td>\n",
              "      <td>['잠도안오네ㅐ얼릉 고구마츄 먹고싶단', '그게 그렇게 맛있었어??? 아주 여보 빼...</td>\n",
              "      <td>잠도 안 와서 고구마 말랭이를 양심상 하나만 먹으려고 한다.</td>\n",
              "      <td>상거래(쇼핑)</td>\n",
              "    </tr>\n",
              "  </tbody>\n",
              "</table>\n",
              "</div>\n",
              "      <button class=\"colab-df-convert\" onclick=\"convertToInteractive('df-088c7b48-13e4-4229-a62f-71160568ac82')\"\n",
              "              title=\"Convert this dataframe to an interactive table.\"\n",
              "              style=\"display:none;\">\n",
              "        \n",
              "  <svg xmlns=\"http://www.w3.org/2000/svg\" height=\"24px\"viewBox=\"0 0 24 24\"\n",
              "       width=\"24px\">\n",
              "    <path d=\"M0 0h24v24H0V0z\" fill=\"none\"/>\n",
              "    <path d=\"M18.56 5.44l.94 2.06.94-2.06 2.06-.94-2.06-.94-.94-2.06-.94 2.06-2.06.94zm-11 1L8.5 8.5l.94-2.06 2.06-.94-2.06-.94L8.5 2.5l-.94 2.06-2.06.94zm10 10l.94 2.06.94-2.06 2.06-.94-2.06-.94-.94-2.06-.94 2.06-2.06.94z\"/><path d=\"M17.41 7.96l-1.37-1.37c-.4-.4-.92-.59-1.43-.59-.52 0-1.04.2-1.43.59L10.3 9.45l-7.72 7.72c-.78.78-.78 2.05 0 2.83L4 21.41c.39.39.9.59 1.41.59.51 0 1.02-.2 1.41-.59l7.78-7.78 2.81-2.81c.8-.78.8-2.07 0-2.86zM5.41 20L4 18.59l7.72-7.72 1.47 1.35L5.41 20z\"/>\n",
              "  </svg>\n",
              "      </button>\n",
              "      \n",
              "  <style>\n",
              "    .colab-df-container {\n",
              "      display:flex;\n",
              "      flex-wrap:wrap;\n",
              "      gap: 12px;\n",
              "    }\n",
              "\n",
              "    .colab-df-convert {\n",
              "      background-color: #E8F0FE;\n",
              "      border: none;\n",
              "      border-radius: 50%;\n",
              "      cursor: pointer;\n",
              "      display: none;\n",
              "      fill: #1967D2;\n",
              "      height: 32px;\n",
              "      padding: 0 0 0 0;\n",
              "      width: 32px;\n",
              "    }\n",
              "\n",
              "    .colab-df-convert:hover {\n",
              "      background-color: #E2EBFA;\n",
              "      box-shadow: 0px 1px 2px rgba(60, 64, 67, 0.3), 0px 1px 3px 1px rgba(60, 64, 67, 0.15);\n",
              "      fill: #174EA6;\n",
              "    }\n",
              "\n",
              "    [theme=dark] .colab-df-convert {\n",
              "      background-color: #3B4455;\n",
              "      fill: #D2E3FC;\n",
              "    }\n",
              "\n",
              "    [theme=dark] .colab-df-convert:hover {\n",
              "      background-color: #434B5C;\n",
              "      box-shadow: 0px 1px 3px 1px rgba(0, 0, 0, 0.15);\n",
              "      filter: drop-shadow(0px 1px 2px rgba(0, 0, 0, 0.3));\n",
              "      fill: #FFFFFF;\n",
              "    }\n",
              "  </style>\n",
              "\n",
              "      <script>\n",
              "        const buttonEl =\n",
              "          document.querySelector('#df-088c7b48-13e4-4229-a62f-71160568ac82 button.colab-df-convert');\n",
              "        buttonEl.style.display =\n",
              "          google.colab.kernel.accessAllowed ? 'block' : 'none';\n",
              "\n",
              "        async function convertToInteractive(key) {\n",
              "          const element = document.querySelector('#df-088c7b48-13e4-4229-a62f-71160568ac82');\n",
              "          const dataTable =\n",
              "            await google.colab.kernel.invokeFunction('convertToInteractive',\n",
              "                                                     [key], {});\n",
              "          if (!dataTable) return;\n",
              "\n",
              "          const docLinkHtml = 'Like what you see? Visit the ' +\n",
              "            '<a target=\"_blank\" href=https://colab.research.google.com/notebooks/data_table.ipynb>data table notebook</a>'\n",
              "            + ' to learn more about interactive tables.';\n",
              "          element.innerHTML = '';\n",
              "          dataTable['output_type'] = 'display_data';\n",
              "          await google.colab.output.renderOutput(dataTable, element);\n",
              "          const docLink = document.createElement('div');\n",
              "          docLink.innerHTML = docLinkHtml;\n",
              "          element.appendChild(docLink);\n",
              "        }\n",
              "      </script>\n",
              "    </div>\n",
              "  </div>\n",
              "  "
            ]
          },
          "metadata": {},
          "execution_count": 13
        }
      ]
    },
    {
      "cell_type": "code",
      "source": [
        "len(train_total)"
      ],
      "metadata": {
        "id": "qufv0FGgAIuH",
        "outputId": "ed44ba2e-1e6f-4ba9-d780-b35bd8307fc0",
        "colab": {
          "base_uri": "https://localhost:8080/"
        }
      },
      "execution_count": null,
      "outputs": [
        {
          "output_type": "execute_result",
          "data": {
            "text/plain": [
              "279992"
            ]
          },
          "metadata": {},
          "execution_count": 16
        }
      ]
    },
    {
      "cell_type": "code",
      "source": [
        "val1 = pd.DataFrame(zip(val1_ids, val1_dialogues , val1_summaries, val1_topic), columns=['Id','Text',  'Summary', 'Category'])\n",
        "val1.to_csv(\"/content/drive/MyDrive/인공지능/아이펠톤/PoC/kt_make_csv/val1.csv\", mode='w', index = False)\n",
        "val1 = pd.read_csv('/content/drive/MyDrive/인공지능/아이펠톤/PoC/kt_make_csv/val1.csv')\n",
        "val1.head()\n",
        "\n",
        "val2 = pd.DataFrame(zip(val2_ids, val2_dialogues , val2_summaries, val2_topic), columns=['Id','Text',  'Summary', 'Category'])\n",
        "val2.to_csv(\"/content/drive/MyDrive/인공지능/아이펠톤/PoC/kt_make_csv/val2.csv\", mode='w', index = False)\n",
        "val2 = pd.read_csv('/content/drive/MyDrive/인공지능/아이펠톤/PoC/kt_make_csv/val2.csv')\n",
        "val2.head()\n",
        "\n",
        "val3 = pd.DataFrame(zip(val3_ids, val3_dialogues , val3_summaries, val3_topic), columns=['Id','Text',  'Summary', 'Category'])\n",
        "val3.to_csv(\"/content/drive/MyDrive/인공지능/아이펠톤/PoC/kt_make_csv/val3.csv\", mode='w', index = False)\n",
        "val3 = pd.read_csv('/content/drive/MyDrive/인공지능/아이펠톤/PoC/kt_make_csv/val3.csv')\n",
        "val3.head()\n",
        "\n",
        "val4 = pd.DataFrame(zip(val4_ids, val4_dialogues , val4_summaries, val4_topic), columns=['Id','Text',  'Summary', 'Category'])\n",
        "val4.to_csv(\"/content/drive/MyDrive/인공지능/아이펠톤/PoC/kt_make_csv/val4.csv\", mode='w', index = False)\n",
        "val4 = pd.read_csv('/content/drive/MyDrive/인공지능/아이펠톤/PoC/kt_make_csv/val4.csv')\n",
        "val4.head()\n",
        "\n",
        "val5 = pd.DataFrame(zip(val5_ids, val5_dialogues , val5_summaries, val5_topic), columns=['Id','Text',  'Summary', 'Category'])\n",
        "val5.to_csv(\"/content/drive/MyDrive/인공지능/아이펠톤/PoC/kt_make_csv/val5.csv\", mode='w', index = False)\n",
        "val5 = pd.read_csv('/content/drive/MyDrive/인공지능/아이펠톤/PoC/kt_make_csv/val5.csv')\n",
        "val5.head()\n",
        "\n",
        "val6 = pd.DataFrame(zip(val6_ids, val6_dialogues , val6_summaries, val6_topic), columns=['Id','Text',  'Summary', 'Category'])\n",
        "val6.to_csv(\"/content/drive/MyDrive/인공지능/아이펠톤/PoC/kt_make_csv/val6.csv\", mode='w', index = False)\n",
        "val6 = pd.read_csv('/content/drive/MyDrive/인공지능/아이펠톤/PoC/kt_make_csv/val6.csv')\n",
        "val6.head()\n",
        "\n",
        "val7 = pd.DataFrame(zip(val7_ids, val7_dialogues , val7_summaries, val7_topic), columns=['Id','Text',  'Summary', 'Category'])\n",
        "val7.to_csv(\"/content/drive/MyDrive/인공지능/아이펠톤/PoC/kt_make_csv/val7.csv\", mode='w', index = False)\n",
        "val7 = pd.read_csv('/content/drive/MyDrive/인공지능/아이펠톤/PoC/kt_make_csv/val7.csv')\n",
        "val7.head()\n",
        "\n",
        "val8 = pd.DataFrame(zip(val8_ids, val8_dialogues , val8_summaries, val8_topic), columns=['Id','Text',  'Summary', 'Category'])\n",
        "val8.to_csv(\"/content/drive/MyDrive/인공지능/아이펠톤/PoC/kt_make_csv/val8.csv\", mode='w', index = False)\n",
        "val8 = pd.read_csv('/content/drive/MyDrive/인공지능/아이펠톤/PoC/kt_make_csv/val8.csv')\n",
        "val8.head()\n",
        "\n",
        "val9 = pd.DataFrame(zip(val9_ids, val9_dialogues , val9_summaries, val9_topic), columns=['Id','Text',  'Summary', 'Category'])\n",
        "val9.to_csv(\"/content/drive/MyDrive/인공지능/아이펠톤/PoC/kt_make_csv/val9.csv\", mode='w', index = False)\n",
        "val9 = pd.read_csv('/content/drive/MyDrive/인공지능/아이펠톤/PoC/kt_make_csv/val9.csv')\n",
        "val9.head()"
      ],
      "metadata": {
        "colab": {
          "base_uri": "https://localhost:8080/",
          "height": 250
        },
        "id": "gzcwwOe-6ew0",
        "outputId": "e5bf3388-b810-483e-ed6b-087826a8bfdd"
      },
      "execution_count": null,
      "outputs": [
        {
          "output_type": "execute_result",
          "data": {
            "text/plain": [
              "                                     Id  \\\n",
              "0  baa0f275-2c11-50d3-8148-9a7efbfff236   \n",
              "1  d2b44434-fe3b-56c7-9f20-62371ae8b19d   \n",
              "2  b2e38656-f7a5-5230-99c4-c115121dc6b4   \n",
              "3  a391d1bd-812d-5d60-ab01-80aa52518ba8   \n",
              "4  cb29365f-ef8f-5e87-9321-efcee430ef7c   \n",
              "\n",
              "                                                Text  \\\n",
              "0  ['호로요이 아직도 안파나', '호로요이는 근데 맛 너무 많아서 아 그거말고 매실 ...   \n",
              "1  ['나 지금 배민에 새로운 가게 봤거든?', '웅웅 시키려고?', '아니 평점이 1...   \n",
              "2  ['오늘은 아이스크림 먹었나?', '응 먹었다', '무슨맛으로 먹었는데', '그 흑...   \n",
              "3  ['#@이름# 오늘 쉬는 날 ㅎㅎ', '히히 진짜? 좋겠당 하루종일 모해용', '나...   \n",
              "4  ['아니 내가 과일을 싫어하는건 아냐', '그럼?? 왜안머겅', '먹ㄱㅣ 귀찮을 뿐...   \n",
              "\n",
              "                                             Summary Category  \n",
              "0                            호로요이와 매화수의 술맛에 대해 토론한다.      식음료  \n",
              "1  배달의 민족(배민)에 있는 신규 가게 리뷰 중 수저를 안 줬다는 이유로 별점을 1개...      식음료  \n",
              "2                        오늘 편의점에서 파는 흑임자 아이스크림을 먹었다.      식음료  \n",
              "3                          오늘 쉬는 날이어서 동네 카페에 가려고 한다.      식음료  \n",
              "4  과일을 싫어하는 것이 아니라 먹을 때 귀찮은 것이라 후식으로 설빙에서 과일빙수 먹을...      식음료  "
            ],
            "text/html": [
              "\n",
              "  <div id=\"df-65e03d4a-57ae-4ade-974c-56b950baf287\">\n",
              "    <div class=\"colab-df-container\">\n",
              "      <div>\n",
              "<style scoped>\n",
              "    .dataframe tbody tr th:only-of-type {\n",
              "        vertical-align: middle;\n",
              "    }\n",
              "\n",
              "    .dataframe tbody tr th {\n",
              "        vertical-align: top;\n",
              "    }\n",
              "\n",
              "    .dataframe thead th {\n",
              "        text-align: right;\n",
              "    }\n",
              "</style>\n",
              "<table border=\"1\" class=\"dataframe\">\n",
              "  <thead>\n",
              "    <tr style=\"text-align: right;\">\n",
              "      <th></th>\n",
              "      <th>Id</th>\n",
              "      <th>Text</th>\n",
              "      <th>Summary</th>\n",
              "      <th>Category</th>\n",
              "    </tr>\n",
              "  </thead>\n",
              "  <tbody>\n",
              "    <tr>\n",
              "      <th>0</th>\n",
              "      <td>baa0f275-2c11-50d3-8148-9a7efbfff236</td>\n",
              "      <td>['호로요이 아직도 안파나', '호로요이는 근데 맛 너무 많아서 아 그거말고 매실 ...</td>\n",
              "      <td>호로요이와 매화수의 술맛에 대해 토론한다.</td>\n",
              "      <td>식음료</td>\n",
              "    </tr>\n",
              "    <tr>\n",
              "      <th>1</th>\n",
              "      <td>d2b44434-fe3b-56c7-9f20-62371ae8b19d</td>\n",
              "      <td>['나 지금 배민에 새로운 가게 봤거든?', '웅웅 시키려고?', '아니 평점이 1...</td>\n",
              "      <td>배달의 민족(배민)에 있는 신규 가게 리뷰 중 수저를 안 줬다는 이유로 별점을 1개...</td>\n",
              "      <td>식음료</td>\n",
              "    </tr>\n",
              "    <tr>\n",
              "      <th>2</th>\n",
              "      <td>b2e38656-f7a5-5230-99c4-c115121dc6b4</td>\n",
              "      <td>['오늘은 아이스크림 먹었나?', '응 먹었다', '무슨맛으로 먹었는데', '그 흑...</td>\n",
              "      <td>오늘 편의점에서 파는 흑임자 아이스크림을 먹었다.</td>\n",
              "      <td>식음료</td>\n",
              "    </tr>\n",
              "    <tr>\n",
              "      <th>3</th>\n",
              "      <td>a391d1bd-812d-5d60-ab01-80aa52518ba8</td>\n",
              "      <td>['#@이름# 오늘 쉬는 날 ㅎㅎ', '히히 진짜? 좋겠당 하루종일 모해용', '나...</td>\n",
              "      <td>오늘 쉬는 날이어서 동네 카페에 가려고 한다.</td>\n",
              "      <td>식음료</td>\n",
              "    </tr>\n",
              "    <tr>\n",
              "      <th>4</th>\n",
              "      <td>cb29365f-ef8f-5e87-9321-efcee430ef7c</td>\n",
              "      <td>['아니 내가 과일을 싫어하는건 아냐', '그럼?? 왜안머겅', '먹ㄱㅣ 귀찮을 뿐...</td>\n",
              "      <td>과일을 싫어하는 것이 아니라 먹을 때 귀찮은 것이라 후식으로 설빙에서 과일빙수 먹을...</td>\n",
              "      <td>식음료</td>\n",
              "    </tr>\n",
              "  </tbody>\n",
              "</table>\n",
              "</div>\n",
              "      <button class=\"colab-df-convert\" onclick=\"convertToInteractive('df-65e03d4a-57ae-4ade-974c-56b950baf287')\"\n",
              "              title=\"Convert this dataframe to an interactive table.\"\n",
              "              style=\"display:none;\">\n",
              "        \n",
              "  <svg xmlns=\"http://www.w3.org/2000/svg\" height=\"24px\"viewBox=\"0 0 24 24\"\n",
              "       width=\"24px\">\n",
              "    <path d=\"M0 0h24v24H0V0z\" fill=\"none\"/>\n",
              "    <path d=\"M18.56 5.44l.94 2.06.94-2.06 2.06-.94-2.06-.94-.94-2.06-.94 2.06-2.06.94zm-11 1L8.5 8.5l.94-2.06 2.06-.94-2.06-.94L8.5 2.5l-.94 2.06-2.06.94zm10 10l.94 2.06.94-2.06 2.06-.94-2.06-.94-.94-2.06-.94 2.06-2.06.94z\"/><path d=\"M17.41 7.96l-1.37-1.37c-.4-.4-.92-.59-1.43-.59-.52 0-1.04.2-1.43.59L10.3 9.45l-7.72 7.72c-.78.78-.78 2.05 0 2.83L4 21.41c.39.39.9.59 1.41.59.51 0 1.02-.2 1.41-.59l7.78-7.78 2.81-2.81c.8-.78.8-2.07 0-2.86zM5.41 20L4 18.59l7.72-7.72 1.47 1.35L5.41 20z\"/>\n",
              "  </svg>\n",
              "      </button>\n",
              "      \n",
              "  <style>\n",
              "    .colab-df-container {\n",
              "      display:flex;\n",
              "      flex-wrap:wrap;\n",
              "      gap: 12px;\n",
              "    }\n",
              "\n",
              "    .colab-df-convert {\n",
              "      background-color: #E8F0FE;\n",
              "      border: none;\n",
              "      border-radius: 50%;\n",
              "      cursor: pointer;\n",
              "      display: none;\n",
              "      fill: #1967D2;\n",
              "      height: 32px;\n",
              "      padding: 0 0 0 0;\n",
              "      width: 32px;\n",
              "    }\n",
              "\n",
              "    .colab-df-convert:hover {\n",
              "      background-color: #E2EBFA;\n",
              "      box-shadow: 0px 1px 2px rgba(60, 64, 67, 0.3), 0px 1px 3px 1px rgba(60, 64, 67, 0.15);\n",
              "      fill: #174EA6;\n",
              "    }\n",
              "\n",
              "    [theme=dark] .colab-df-convert {\n",
              "      background-color: #3B4455;\n",
              "      fill: #D2E3FC;\n",
              "    }\n",
              "\n",
              "    [theme=dark] .colab-df-convert:hover {\n",
              "      background-color: #434B5C;\n",
              "      box-shadow: 0px 1px 3px 1px rgba(0, 0, 0, 0.15);\n",
              "      filter: drop-shadow(0px 1px 2px rgba(0, 0, 0, 0.3));\n",
              "      fill: #FFFFFF;\n",
              "    }\n",
              "  </style>\n",
              "\n",
              "      <script>\n",
              "        const buttonEl =\n",
              "          document.querySelector('#df-65e03d4a-57ae-4ade-974c-56b950baf287 button.colab-df-convert');\n",
              "        buttonEl.style.display =\n",
              "          google.colab.kernel.accessAllowed ? 'block' : 'none';\n",
              "\n",
              "        async function convertToInteractive(key) {\n",
              "          const element = document.querySelector('#df-65e03d4a-57ae-4ade-974c-56b950baf287');\n",
              "          const dataTable =\n",
              "            await google.colab.kernel.invokeFunction('convertToInteractive',\n",
              "                                                     [key], {});\n",
              "          if (!dataTable) return;\n",
              "\n",
              "          const docLinkHtml = 'Like what you see? Visit the ' +\n",
              "            '<a target=\"_blank\" href=https://colab.research.google.com/notebooks/data_table.ipynb>data table notebook</a>'\n",
              "            + ' to learn more about interactive tables.';\n",
              "          element.innerHTML = '';\n",
              "          dataTable['output_type'] = 'display_data';\n",
              "          await google.colab.output.renderOutput(dataTable, element);\n",
              "          const docLink = document.createElement('div');\n",
              "          docLink.innerHTML = docLinkHtml;\n",
              "          element.appendChild(docLink);\n",
              "        }\n",
              "      </script>\n",
              "    </div>\n",
              "  </div>\n",
              "  "
            ]
          },
          "metadata": {},
          "execution_count": 14
        }
      ]
    },
    {
      "cell_type": "code",
      "source": [
        "val_total = pd.concat([val1, val2, val3, val4, val5, val6, val7, val8, val9])\n",
        "val_total.to_csv(\"/content/drive/MyDrive/인공지능/아이펠톤/PoC/kt_make_csv/val_total.csv\", mode='w', index = False)\n",
        "\n",
        "val_total = pd.read_csv('/content/drive/MyDrive/인공지능/아이펠톤/PoC/kt_make_csv/val_total.csv')\n",
        "val_total.head()"
      ],
      "metadata": {
        "colab": {
          "base_uri": "https://localhost:8080/",
          "height": 302
        },
        "id": "ux9HfNu66erz",
        "outputId": "be4d14cd-32bb-4476-ed12-dcb5fa610045"
      },
      "execution_count": null,
      "outputs": [
        {
          "output_type": "execute_result",
          "data": {
            "text/plain": [
              "                                     Id  \\\n",
              "0  9effd65e-e18f-5510-8866-d6a677314c9c   \n",
              "1  49b9f9b7-a79d-5283-9553-95b8f156ff90   \n",
              "2  df6b6bac-648b-5d32-86a3-9b8b215e5f95   \n",
              "3  3043293f-7bb5-5edb-9b1f-85120e305c3d   \n",
              "4  2b9b9c39-2721-50e6-af3e-e5c00138f43d   \n",
              "\n",
              "                                                Text  \\\n",
              "0  ['웅', '영업팀과장님이 보내줬는데 팀장님이 해줄지 모르겠다 저번에 부산갈때도 숙...   \n",
              "1  ['너는 잘가라....회사.... 선택 잘해..', '알겠어 ㅋㅋㅋㅋㅋㅋㅋㅋㅋㅋ 많...   \n",
              "2  ['느낌상 대통령까지는 아니고 오시면 여사님정도오시지않을까 ㅋㅋㅋ', '그러면서',...   \n",
              "3  ['숨만수이ㅓ도 숨만쉬어도 100 이내', '한달안에 일 무조건 해야대', '아 딱...   \n",
              "4  ['목요일은 외근이구 금요일은 출장!!!', '금요일이 당진이양?', '아닝아닝 1...   \n",
              "\n",
              "                                             Summary Category  \n",
              "0     팀장님이 출장 가서 머물 숙소를 계속해서 더 싼 데로 하게 한다고 이야기하고 있다.    일과 직업  \n",
              "1         이제 이력서를 쓰고 영어도 해야 한다고 해서 첫 회사를 잘 들어가라고 했다.    일과 직업  \n",
              "2  느낌상 대통령까지는 아니고 오시면 여사님 정도 오시지 않을까라며 이에 대해 이야기하...    일과 직업  \n",
              "3                      한 달 안에 무조건 일을 시작해서 돈을 벌어야 한다.    일과 직업  \n",
              "4                   목요일에 외근이고 금요일에 출장인데 당진은 10일에 간다.    일과 직업  "
            ],
            "text/html": [
              "\n",
              "  <div id=\"df-de5fc701-b3f2-4b5b-a940-e1a0a4c81423\">\n",
              "    <div class=\"colab-df-container\">\n",
              "      <div>\n",
              "<style scoped>\n",
              "    .dataframe tbody tr th:only-of-type {\n",
              "        vertical-align: middle;\n",
              "    }\n",
              "\n",
              "    .dataframe tbody tr th {\n",
              "        vertical-align: top;\n",
              "    }\n",
              "\n",
              "    .dataframe thead th {\n",
              "        text-align: right;\n",
              "    }\n",
              "</style>\n",
              "<table border=\"1\" class=\"dataframe\">\n",
              "  <thead>\n",
              "    <tr style=\"text-align: right;\">\n",
              "      <th></th>\n",
              "      <th>Id</th>\n",
              "      <th>Text</th>\n",
              "      <th>Summary</th>\n",
              "      <th>Category</th>\n",
              "    </tr>\n",
              "  </thead>\n",
              "  <tbody>\n",
              "    <tr>\n",
              "      <th>0</th>\n",
              "      <td>9effd65e-e18f-5510-8866-d6a677314c9c</td>\n",
              "      <td>['웅', '영업팀과장님이 보내줬는데 팀장님이 해줄지 모르겠다 저번에 부산갈때도 숙...</td>\n",
              "      <td>팀장님이 출장 가서 머물 숙소를 계속해서 더 싼 데로 하게 한다고 이야기하고 있다.</td>\n",
              "      <td>일과 직업</td>\n",
              "    </tr>\n",
              "    <tr>\n",
              "      <th>1</th>\n",
              "      <td>49b9f9b7-a79d-5283-9553-95b8f156ff90</td>\n",
              "      <td>['너는 잘가라....회사.... 선택 잘해..', '알겠어 ㅋㅋㅋㅋㅋㅋㅋㅋㅋㅋ 많...</td>\n",
              "      <td>이제 이력서를 쓰고 영어도 해야 한다고 해서 첫 회사를 잘 들어가라고 했다.</td>\n",
              "      <td>일과 직업</td>\n",
              "    </tr>\n",
              "    <tr>\n",
              "      <th>2</th>\n",
              "      <td>df6b6bac-648b-5d32-86a3-9b8b215e5f95</td>\n",
              "      <td>['느낌상 대통령까지는 아니고 오시면 여사님정도오시지않을까 ㅋㅋㅋ', '그러면서',...</td>\n",
              "      <td>느낌상 대통령까지는 아니고 오시면 여사님 정도 오시지 않을까라며 이에 대해 이야기하...</td>\n",
              "      <td>일과 직업</td>\n",
              "    </tr>\n",
              "    <tr>\n",
              "      <th>3</th>\n",
              "      <td>3043293f-7bb5-5edb-9b1f-85120e305c3d</td>\n",
              "      <td>['숨만수이ㅓ도 숨만쉬어도 100 이내', '한달안에 일 무조건 해야대', '아 딱...</td>\n",
              "      <td>한 달 안에 무조건 일을 시작해서 돈을 벌어야 한다.</td>\n",
              "      <td>일과 직업</td>\n",
              "    </tr>\n",
              "    <tr>\n",
              "      <th>4</th>\n",
              "      <td>2b9b9c39-2721-50e6-af3e-e5c00138f43d</td>\n",
              "      <td>['목요일은 외근이구 금요일은 출장!!!', '금요일이 당진이양?', '아닝아닝 1...</td>\n",
              "      <td>목요일에 외근이고 금요일에 출장인데 당진은 10일에 간다.</td>\n",
              "      <td>일과 직업</td>\n",
              "    </tr>\n",
              "  </tbody>\n",
              "</table>\n",
              "</div>\n",
              "      <button class=\"colab-df-convert\" onclick=\"convertToInteractive('df-de5fc701-b3f2-4b5b-a940-e1a0a4c81423')\"\n",
              "              title=\"Convert this dataframe to an interactive table.\"\n",
              "              style=\"display:none;\">\n",
              "        \n",
              "  <svg xmlns=\"http://www.w3.org/2000/svg\" height=\"24px\"viewBox=\"0 0 24 24\"\n",
              "       width=\"24px\">\n",
              "    <path d=\"M0 0h24v24H0V0z\" fill=\"none\"/>\n",
              "    <path d=\"M18.56 5.44l.94 2.06.94-2.06 2.06-.94-2.06-.94-.94-2.06-.94 2.06-2.06.94zm-11 1L8.5 8.5l.94-2.06 2.06-.94-2.06-.94L8.5 2.5l-.94 2.06-2.06.94zm10 10l.94 2.06.94-2.06 2.06-.94-2.06-.94-.94-2.06-.94 2.06-2.06.94z\"/><path d=\"M17.41 7.96l-1.37-1.37c-.4-.4-.92-.59-1.43-.59-.52 0-1.04.2-1.43.59L10.3 9.45l-7.72 7.72c-.78.78-.78 2.05 0 2.83L4 21.41c.39.39.9.59 1.41.59.51 0 1.02-.2 1.41-.59l7.78-7.78 2.81-2.81c.8-.78.8-2.07 0-2.86zM5.41 20L4 18.59l7.72-7.72 1.47 1.35L5.41 20z\"/>\n",
              "  </svg>\n",
              "      </button>\n",
              "      \n",
              "  <style>\n",
              "    .colab-df-container {\n",
              "      display:flex;\n",
              "      flex-wrap:wrap;\n",
              "      gap: 12px;\n",
              "    }\n",
              "\n",
              "    .colab-df-convert {\n",
              "      background-color: #E8F0FE;\n",
              "      border: none;\n",
              "      border-radius: 50%;\n",
              "      cursor: pointer;\n",
              "      display: none;\n",
              "      fill: #1967D2;\n",
              "      height: 32px;\n",
              "      padding: 0 0 0 0;\n",
              "      width: 32px;\n",
              "    }\n",
              "\n",
              "    .colab-df-convert:hover {\n",
              "      background-color: #E2EBFA;\n",
              "      box-shadow: 0px 1px 2px rgba(60, 64, 67, 0.3), 0px 1px 3px 1px rgba(60, 64, 67, 0.15);\n",
              "      fill: #174EA6;\n",
              "    }\n",
              "\n",
              "    [theme=dark] .colab-df-convert {\n",
              "      background-color: #3B4455;\n",
              "      fill: #D2E3FC;\n",
              "    }\n",
              "\n",
              "    [theme=dark] .colab-df-convert:hover {\n",
              "      background-color: #434B5C;\n",
              "      box-shadow: 0px 1px 3px 1px rgba(0, 0, 0, 0.15);\n",
              "      filter: drop-shadow(0px 1px 2px rgba(0, 0, 0, 0.3));\n",
              "      fill: #FFFFFF;\n",
              "    }\n",
              "  </style>\n",
              "\n",
              "      <script>\n",
              "        const buttonEl =\n",
              "          document.querySelector('#df-de5fc701-b3f2-4b5b-a940-e1a0a4c81423 button.colab-df-convert');\n",
              "        buttonEl.style.display =\n",
              "          google.colab.kernel.accessAllowed ? 'block' : 'none';\n",
              "\n",
              "        async function convertToInteractive(key) {\n",
              "          const element = document.querySelector('#df-de5fc701-b3f2-4b5b-a940-e1a0a4c81423');\n",
              "          const dataTable =\n",
              "            await google.colab.kernel.invokeFunction('convertToInteractive',\n",
              "                                                     [key], {});\n",
              "          if (!dataTable) return;\n",
              "\n",
              "          const docLinkHtml = 'Like what you see? Visit the ' +\n",
              "            '<a target=\"_blank\" href=https://colab.research.google.com/notebooks/data_table.ipynb>data table notebook</a>'\n",
              "            + ' to learn more about interactive tables.';\n",
              "          element.innerHTML = '';\n",
              "          dataTable['output_type'] = 'display_data';\n",
              "          await google.colab.output.renderOutput(dataTable, element);\n",
              "          const docLink = document.createElement('div');\n",
              "          docLink.innerHTML = docLinkHtml;\n",
              "          element.appendChild(docLink);\n",
              "        }\n",
              "      </script>\n",
              "    </div>\n",
              "  </div>\n",
              "  "
            ]
          },
          "metadata": {},
          "execution_count": 15
        }
      ]
    },
    {
      "cell_type": "code",
      "source": [],
      "metadata": {
        "id": "R_FmvLhR6eo9"
      },
      "execution_count": null,
      "outputs": []
    },
    {
      "cell_type": "code",
      "source": [],
      "metadata": {
        "id": "DvGVuAFe6ejL"
      },
      "execution_count": null,
      "outputs": []
    },
    {
      "cell_type": "code",
      "source": [],
      "metadata": {
        "id": "Zagfxisg6ebK"
      },
      "execution_count": null,
      "outputs": []
    },
    {
      "cell_type": "code",
      "source": [],
      "metadata": {
        "id": "cbw2bASJ6eYg"
      },
      "execution_count": null,
      "outputs": []
    }
  ]
}
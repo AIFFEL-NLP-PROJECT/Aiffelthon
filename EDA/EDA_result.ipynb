{
  "nbformat": 4,
  "nbformat_minor": 0,
  "metadata": {
    "colab": {
      "provenance": [],
      "collapsed_sections": []
    },
    "kernelspec": {
      "name": "python3",
      "display_name": "Python 3"
    },
    "language_info": {
      "name": "python"
    }
  },
  "cells": [
    {
      "cell_type": "markdown",
      "source": [
        "# 1. Data EDA\n",
        "### 이 과정에서는 Data의 특성을 파악하고 얼만큼의 Data를 사용할 것인지 파악할 것이다\n",
        "- 예를 들어 토큰화 이후 Data별 Len을 확인하였을 때 적절한 len을 찾는 것이 목표이다."
      ],
      "metadata": {
        "id": "eAReIMfkBPdi"
      }
    },
    {
      "cell_type": "code",
      "execution_count": null,
      "metadata": {
        "id": "BUjd4tKH9fCn"
      },
      "outputs": [],
      "source": [
        "import numpy as np\n",
        "import pandas as pd\n",
        "import re\n",
        "import matplotlib.pyplot as plt"
      ]
    },
    {
      "cell_type": "code",
      "source": [
        "# 데이터 불러오기\n",
        "\n",
        "train_2_3sent = pd.read_csv('/content/drive/MyDrive/Aiffelthon/data/csv/train_2-3sent_Sum2.csv')\n",
        "train_20sent = pd.read_csv('/content/drive/MyDrive/Aiffelthon/data/csv/train_20per_Sum3.csv')\n",
        "train_1sent = pd.read_csv('/content/drive/MyDrive/Aiffelthon/data/csv/train_Sum1.csv')\n",
        "val_2_3sent = pd.read_csv('/content/drive/MyDrive/Aiffelthon/data/csv/val_2-3sent_Sum2.csv')\n",
        "val_20sent = pd.read_csv('/content/drive/MyDrive/Aiffelthon/data/csv/val_20per_Sum3.csv')\n",
        "val_1sent = pd.read_csv('/content/drive/MyDrive/Aiffelthon/data/csv/val_Sum1.csv')"
      ],
      "metadata": {
        "id": "CJjNg8sP_rcV"
      },
      "execution_count": null,
      "outputs": []
    },
    {
      "cell_type": "code",
      "source": [
        "# 데이터 별 길이\n",
        "# 현재 train, val의 길이가 동일한 것으로 나오는데 데이터 추출에서 문제가 발생한 것으로 예측됨.\n",
        "print('train 2-3sen : ',len(train_2_3sent))\n",
        "print('val 2-3sen : ',len(val_2_3sent))\n",
        "print('train 20%sen : ',len(train_20sent))\n",
        "print('val 20%sen : ',len(val_20sent))\n",
        "print('train 1sen : ',len(train_1sent))\n",
        "print('val 1sen : ',len(val_1sent))"
      ],
      "metadata": {
        "colab": {
          "base_uri": "https://localhost:8080/"
        },
        "id": "JDyZAZtkQp_A",
        "outputId": "e829b31d-c995-4672-e049-3a7599b19a76"
      },
      "execution_count": null,
      "outputs": [
        {
          "output_type": "stream",
          "name": "stdout",
          "text": [
            "train 2-3sen :  61290\n",
            "val 2-3sen :  61290\n",
            "train 20%sen :  73431\n",
            "val 20%sen :  73431\n",
            "train 1sen :  125690\n",
            "val 1sen :  125690\n"
          ]
        }
      ]
    },
    {
      "cell_type": "code",
      "source": [
        "train_2_3sent.head()"
      ],
      "metadata": {
        "id": "UXG-WVk4FUE7"
      },
      "execution_count": null,
      "outputs": []
    },
    {
      "cell_type": "code",
      "source": [
        "train_2_3sent['sentence_sent_2~3'][0]"
      ],
      "metadata": {
        "id": "FS7GKI1rGQZd"
      },
      "execution_count": null,
      "outputs": []
    },
    {
      "cell_type": "code",
      "source": [
        "train_2_3sent['input'][0]"
      ],
      "metadata": {
        "id": "7L0p3LgJG6J_"
      },
      "execution_count": null,
      "outputs": []
    },
    {
      "cell_type": "code",
      "source": [
        "train_1sent.head()"
      ],
      "metadata": {
        "id": "XB_Y5mz6Fe1-"
      },
      "execution_count": null,
      "outputs": []
    },
    {
      "cell_type": "code",
      "source": [
        "train_1sent['input'][0]"
      ],
      "metadata": {
        "id": "0vqsPSJ0G-UK"
      },
      "execution_count": null,
      "outputs": []
    },
    {
      "cell_type": "code",
      "source": [
        "train_1sent['sentence_onesent'][0]"
      ],
      "metadata": {
        "id": "QTUqZeOHGYn1"
      },
      "execution_count": null,
      "outputs": []
    },
    {
      "cell_type": "code",
      "source": [
        "train_20sent.head()"
      ],
      "metadata": {
        "id": "6MmAzq0OFecl"
      },
      "execution_count": null,
      "outputs": []
    },
    {
      "cell_type": "code",
      "source": [
        "train_20sent.tail(10)"
      ],
      "metadata": {
        "id": "9zhKesxmQffr"
      },
      "execution_count": null,
      "outputs": []
    },
    {
      "cell_type": "code",
      "source": [
        "train_20sent['sentence_per_20'][0]"
      ],
      "metadata": {
        "id": "tfi1IOztF0TB"
      },
      "execution_count": null,
      "outputs": []
    },
    {
      "cell_type": "code",
      "source": [
        "val_20sent.head()"
      ],
      "metadata": {
        "id": "6vn-OEAHFfII"
      },
      "execution_count": null,
      "outputs": []
    },
    {
      "cell_type": "code",
      "source": [
        "val_20sent.tail(10)"
      ],
      "metadata": {
        "id": "eU9IQacmQjj0"
      },
      "execution_count": null,
      "outputs": []
    },
    {
      "cell_type": "code",
      "source": [
        "val_20sent['sentence_per_20'][0]"
      ],
      "metadata": {
        "id": "BSTOHGXgF8Zl"
      },
      "execution_count": null,
      "outputs": []
    },
    {
      "cell_type": "code",
      "source": [
        "val_2_3sent.head()"
      ],
      "metadata": {
        "id": "wbagIvtIFe_u"
      },
      "execution_count": null,
      "outputs": []
    },
    {
      "cell_type": "code",
      "source": [
        "val_2_3sent['sentence_sent_2~3'][0]"
      ],
      "metadata": {
        "id": "pipeqXPPISNu"
      },
      "execution_count": null,
      "outputs": []
    },
    {
      "cell_type": "code",
      "source": [
        "val_1sent.head()"
      ],
      "metadata": {
        "id": "8mcVl4rMFfPx"
      },
      "execution_count": null,
      "outputs": []
    },
    {
      "cell_type": "code",
      "source": [
        "val_1sent['sentence_onesent'][0]"
      ],
      "metadata": {
        "id": "nRO4CUDiITDi"
      },
      "execution_count": null,
      "outputs": []
    },
    {
      "cell_type": "code",
      "source": [
        "a = train_2_3sent['input'] == val_2_3sent['input']"
      ],
      "metadata": {
        "id": "JaOLVz0iRcay"
      },
      "execution_count": null,
      "outputs": []
    },
    {
      "cell_type": "code",
      "source": [
        "a.value_counts()  # "
      ],
      "metadata": {
        "colab": {
          "base_uri": "https://localhost:8080/"
        },
        "id": "thgaICSATmhY",
        "outputId": "c6eeda22-4e5a-4e79-e9e7-4774c53a5427"
      },
      "execution_count": null,
      "outputs": [
        {
          "output_type": "execute_result",
          "data": {
            "text/plain": [
              "True    61290\n",
              "Name: input, dtype: int64"
            ]
          },
          "metadata": {},
          "execution_count": 49
        }
      ]
    },
    {
      "cell_type": "code",
      "source": [
        "b = train_2_3sent['sentence_sent_2~3'] == val_2_3sent['sentence_sent_2~3b']"
      ],
      "metadata": {
        "id": "hXiw3p6jU5kj"
      },
      "execution_count": null,
      "outputs": []
    },
    {
      "cell_type": "code",
      "source": [
        "b.value_counts()"
      ],
      "metadata": {
        "colab": {
          "base_uri": "https://localhost:8080/"
        },
        "id": "lOS8vMI3VBC3",
        "outputId": "05a7d3b6-83f7-4ac9-ee64-d71d07e0c6d4"
      },
      "execution_count": null,
      "outputs": [
        {
          "output_type": "execute_result",
          "data": {
            "text/plain": [
              "True    61290\n",
              "Name: sentence_sent_2~3, dtype: int64"
            ]
          },
          "metadata": {},
          "execution_count": 51
        }
      ]
    },
    {
      "cell_type": "markdown",
      "source": [
        "# 데이터 전처리 시행\n",
        "- pandas를 사용하여 Data의 특징을 알아보고 필요한 전처리를 수행한다.\n",
        "- 임시적으로 train Data에서만 전처리를 적용하였다."
      ],
      "metadata": {
        "id": "GQsyQEfPbToq"
      }
    },
    {
      "cell_type": "code",
      "source": [
        "train_2_3sent \n",
        "train_20sent \n",
        "train_1sent "
      ],
      "metadata": {
        "id": "lSiTmaztbrqJ"
      },
      "execution_count": null,
      "outputs": []
    },
    {
      "cell_type": "code",
      "source": [
        "# 이메일이 포함된 문장 개수 확인 (1줄 요약)\n",
        "\n",
        "train_1sent[train_1sent['input'].str.contains('@')]\n"
      ],
      "metadata": {
        "id": "0JqVdIpObwF-"
      },
      "execution_count": null,
      "outputs": []
    },
    {
      "cell_type": "code",
      "source": [
        "# 임의로 확인\n",
        "\n",
        "train_1sent['input'].iloc[96024]\n",
        "\n",
        "# 기자의 이메일 뿐 아니라 인터넷 웹사이트가 눈에띈다\n",
        "# 이럴때는 ()안에 모든 문자를 지울수도있지만 중요한 정보가 있을 가능성을 배제할 수 없으니 \n",
        "# 사이트 주소와 이메일만 지우도록 하겠다."
      ],
      "metadata": {
        "colab": {
          "base_uri": "https://localhost:8080/",
          "height": 217
        },
        "id": "3Vf5o2Z7b7wh",
        "outputId": "c6ce9da3-fcc4-4851-b648-125db9ee7378"
      },
      "execution_count": null,
      "outputs": [
        {
          "output_type": "execute_result",
          "data": {
            "text/plain": [
              "' 환경부 소속 화학물질안전원(원장 조은희)은 화학안전 관련 아이디어 발굴 및 국민 체감형 화학안전 정책 추진을 위해 ‘2021 대국민 화학안전 아이디어 공모전’을 7월 1일부터 31일까지 한 달간 개최한다. \\n 이번 공모전은 ‘국민의 아이디어, 정책이 되다’를 주제로 화학안전 정책 수립 단계부터 국민 참여를 활성화 하고 국민 목소리를 정책에 적극적으로 반영하기 위해 마련됐다.\\n 공모 분야는 화학안전망 강화 탄소저감 실현 신기술 활용 국민 참여‧소통 확대 등 정부의 핵심 추진정책 및 국민적 관심이 높은 4개 분야다.\\n  화학안전에 관심 있는 국민 및 국내 거주 외국인 등 누구나 참여 가능하며, \\n  응모자는 화학물질안전원 누리집(www.nics.me.go.kr) 및 국민생각함(epeople.go.kr)에서 아이디어 공모전 신청서를 내려받아 작성한 후 전자메일(jojo721@korea.kr)로 제출하면 된다.\\n 화학물질안전원은 8월 중 대상을 포함한 총 5건의 우수 아이디어를 선정할 계획이다.\\n  심사는 창의성, 실현가능성, 구체성, 기대효과를 종합적으로 고려하여 정보가림방식(블라인드 심사)으로 진행되며, 1단계는 화학물질안전원 직원과 국민투표로, 2단계는 내부 심사위원회의를 거칠 예정이다.\\n  시상내역으로는 대상 1명, 최우수상 1명, 우수상 3명 이며, 선발된 수상자에게는 소정의 상금과 화학물질안전원상이 수여될 예정이다.\\n  선정된 아이디어는 향후 화학사고 예방‧대비‧대응 관련 정책 마련, 화학물질 사업장 저탄소‧친환경 공정 개선 및 신기술을 활용한 화학안전 정책 추진 등에 적극 활용될 예정이다.\\n'"
            ],
            "application/vnd.google.colaboratory.intrinsic+json": {
              "type": "string"
            }
          },
          "metadata": {},
          "execution_count": 12
        }
      ]
    },
    {
      "cell_type": "code",
      "source": [
        "train_1sent[train_1sent['input'].str.contains(r' 기자')]"
      ],
      "metadata": {
        "colab": {
          "base_uri": "https://localhost:8080/",
          "height": 641
        },
        "id": "o4H8TLUzgO5G",
        "outputId": "d1b12aee-7682-4a0e-e755-8ec8f95bcaf9"
      },
      "execution_count": null,
      "outputs": [
        {
          "output_type": "execute_result",
          "data": {
            "text/plain": [
              "                                                    input  \\\n",
              "59      특별히 65세 이상 되신 어르신 그리고 고위험군들은 만성질환을 앓고 계실 경우 약 ...   \n",
              "75      예, 질의하신 사항에 대해 답변드리겠습니다.  먼저, 최근에 등교학생들, 등교수업이...   \n",
              "171     답변드리겠습니다. 기자님께서 질문하신 사항은 두 가지인데, 첫 번째는 최근에 수도권...   \n",
              "182     (은성수 금융위원장) 규모를 속 시원하게 이야기하면 좋겠습니다마는, 규모는 아까 말...   \n",
              "203     신 기자께서는 교육업에 대해서도 특별고용지원 업종 지정을 고려하실 계획이 있으신지를...   \n",
              "...                                                   ...   \n",
              "125387   \\n최거훈 비서실장 기자간담회 발언자료\\n 김형오 국회의장에게 미디어법 시정의무가...   \n",
              "125393  김형오 국회의장 '우리땅 희망탐방' : 경남편\\n 국회의장으로 45년 만에 해군사관...   \n",
              "125493   \\n정의화 의장, 신임 국회사무총장에 박형준 전 의원 내정\\n정의화 의장은 신임 ...   \n",
              "125498  이에 대해 조코위 대통령은 배석한 인니 외교부장관으로부터 MIKTA 관련 진행 현황...   \n",
              "125680  도스 상원의장은 “올해 수교 120주년을 맞아 양국대화 확대하길 희망한다”면서 “양...   \n",
              "\n",
              "                                         sentence_onesent  \n",
              "59      집단방역을 위해서 5대 기본수칙을 철저히 지켜야 하고 일상을 영위해가며 생활 속의 ...  \n",
              "75      정부는 덴탈마스크의 생산량 증대를 위해 대책과 방안을 추진하고 하루 생산량의 80%...  \n",
              "171     대구·경북지역이 전염병관리특별지역이기에 마스크 특별공급도 추진해 왔고 수도권 지역에...  \n",
              "182     채권시장안정펀드의 규모는 2008년에 부총리가 10조를 말했는데 그보다는 커질 것 ...  \n",
              "203     코로나19 사태로 피해가 크게 나타나는 업종을 특별고용지원 업종으로 지정했는데 지속...  \n",
              "...                                                   ...  \n",
              "125387  민주당 의원들은 미디어법이 유효하게 시행되는 것을 막기 위해 헌재에 권한쟁의심판을 ...  \n",
              "125393  김 국회의장은 우리 땅 희망탐방 다섯번째 일정으로 경남지역을 방문했고 해군사관학교를...  \n",
              "125493  신임 국회 사무총장에 박 전 의원을 내정한 정 의장은 의장으로서 국회의 혁신적 변화...  \n",
              "125498  정 의장이 줄키프리 의장에게 서울에서 MIKTA 국회의장 회의 개최를 추진 중에 있...  \n",
              "125680  박 의장은 말리에 있던 국민들의 귀국을 도와주고 화이자 백신의 수출을 정상적으로 이...  \n",
              "\n",
              "[5464 rows x 2 columns]"
            ],
            "text/html": [
              "\n",
              "  <div id=\"df-5b65acfd-5d38-463c-8327-16c71119d8a4\">\n",
              "    <div class=\"colab-df-container\">\n",
              "      <div>\n",
              "<style scoped>\n",
              "    .dataframe tbody tr th:only-of-type {\n",
              "        vertical-align: middle;\n",
              "    }\n",
              "\n",
              "    .dataframe tbody tr th {\n",
              "        vertical-align: top;\n",
              "    }\n",
              "\n",
              "    .dataframe thead th {\n",
              "        text-align: right;\n",
              "    }\n",
              "</style>\n",
              "<table border=\"1\" class=\"dataframe\">\n",
              "  <thead>\n",
              "    <tr style=\"text-align: right;\">\n",
              "      <th></th>\n",
              "      <th>input</th>\n",
              "      <th>sentence_onesent</th>\n",
              "    </tr>\n",
              "  </thead>\n",
              "  <tbody>\n",
              "    <tr>\n",
              "      <th>59</th>\n",
              "      <td>특별히 65세 이상 되신 어르신 그리고 고위험군들은 만성질환을 앓고 계실 경우 약 ...</td>\n",
              "      <td>집단방역을 위해서 5대 기본수칙을 철저히 지켜야 하고 일상을 영위해가며 생활 속의 ...</td>\n",
              "    </tr>\n",
              "    <tr>\n",
              "      <th>75</th>\n",
              "      <td>예, 질의하신 사항에 대해 답변드리겠습니다.  먼저, 최근에 등교학생들, 등교수업이...</td>\n",
              "      <td>정부는 덴탈마스크의 생산량 증대를 위해 대책과 방안을 추진하고 하루 생산량의 80%...</td>\n",
              "    </tr>\n",
              "    <tr>\n",
              "      <th>171</th>\n",
              "      <td>답변드리겠습니다. 기자님께서 질문하신 사항은 두 가지인데, 첫 번째는 최근에 수도권...</td>\n",
              "      <td>대구·경북지역이 전염병관리특별지역이기에 마스크 특별공급도 추진해 왔고 수도권 지역에...</td>\n",
              "    </tr>\n",
              "    <tr>\n",
              "      <th>182</th>\n",
              "      <td>(은성수 금융위원장) 규모를 속 시원하게 이야기하면 좋겠습니다마는, 규모는 아까 말...</td>\n",
              "      <td>채권시장안정펀드의 규모는 2008년에 부총리가 10조를 말했는데 그보다는 커질 것 ...</td>\n",
              "    </tr>\n",
              "    <tr>\n",
              "      <th>203</th>\n",
              "      <td>신 기자께서는 교육업에 대해서도 특별고용지원 업종 지정을 고려하실 계획이 있으신지를...</td>\n",
              "      <td>코로나19 사태로 피해가 크게 나타나는 업종을 특별고용지원 업종으로 지정했는데 지속...</td>\n",
              "    </tr>\n",
              "    <tr>\n",
              "      <th>...</th>\n",
              "      <td>...</td>\n",
              "      <td>...</td>\n",
              "    </tr>\n",
              "    <tr>\n",
              "      <th>125387</th>\n",
              "      <td>\\n최거훈 비서실장 기자간담회 발언자료\\n 김형오 국회의장에게 미디어법 시정의무가...</td>\n",
              "      <td>민주당 의원들은 미디어법이 유효하게 시행되는 것을 막기 위해 헌재에 권한쟁의심판을 ...</td>\n",
              "    </tr>\n",
              "    <tr>\n",
              "      <th>125393</th>\n",
              "      <td>김형오 국회의장 '우리땅 희망탐방' : 경남편\\n 국회의장으로 45년 만에 해군사관...</td>\n",
              "      <td>김 국회의장은 우리 땅 희망탐방 다섯번째 일정으로 경남지역을 방문했고 해군사관학교를...</td>\n",
              "    </tr>\n",
              "    <tr>\n",
              "      <th>125493</th>\n",
              "      <td>\\n정의화 의장, 신임 국회사무총장에 박형준 전 의원 내정\\n정의화 의장은 신임 ...</td>\n",
              "      <td>신임 국회 사무총장에 박 전 의원을 내정한 정 의장은 의장으로서 국회의 혁신적 변화...</td>\n",
              "    </tr>\n",
              "    <tr>\n",
              "      <th>125498</th>\n",
              "      <td>이에 대해 조코위 대통령은 배석한 인니 외교부장관으로부터 MIKTA 관련 진행 현황...</td>\n",
              "      <td>정 의장이 줄키프리 의장에게 서울에서 MIKTA 국회의장 회의 개최를 추진 중에 있...</td>\n",
              "    </tr>\n",
              "    <tr>\n",
              "      <th>125680</th>\n",
              "      <td>도스 상원의장은 “올해 수교 120주년을 맞아 양국대화 확대하길 희망한다”면서 “양...</td>\n",
              "      <td>박 의장은 말리에 있던 국민들의 귀국을 도와주고 화이자 백신의 수출을 정상적으로 이...</td>\n",
              "    </tr>\n",
              "  </tbody>\n",
              "</table>\n",
              "<p>5464 rows × 2 columns</p>\n",
              "</div>\n",
              "      <button class=\"colab-df-convert\" onclick=\"convertToInteractive('df-5b65acfd-5d38-463c-8327-16c71119d8a4')\"\n",
              "              title=\"Convert this dataframe to an interactive table.\"\n",
              "              style=\"display:none;\">\n",
              "        \n",
              "  <svg xmlns=\"http://www.w3.org/2000/svg\" height=\"24px\"viewBox=\"0 0 24 24\"\n",
              "       width=\"24px\">\n",
              "    <path d=\"M0 0h24v24H0V0z\" fill=\"none\"/>\n",
              "    <path d=\"M18.56 5.44l.94 2.06.94-2.06 2.06-.94-2.06-.94-.94-2.06-.94 2.06-2.06.94zm-11 1L8.5 8.5l.94-2.06 2.06-.94-2.06-.94L8.5 2.5l-.94 2.06-2.06.94zm10 10l.94 2.06.94-2.06 2.06-.94-2.06-.94-.94-2.06-.94 2.06-2.06.94z\"/><path d=\"M17.41 7.96l-1.37-1.37c-.4-.4-.92-.59-1.43-.59-.52 0-1.04.2-1.43.59L10.3 9.45l-7.72 7.72c-.78.78-.78 2.05 0 2.83L4 21.41c.39.39.9.59 1.41.59.51 0 1.02-.2 1.41-.59l7.78-7.78 2.81-2.81c.8-.78.8-2.07 0-2.86zM5.41 20L4 18.59l7.72-7.72 1.47 1.35L5.41 20z\"/>\n",
              "  </svg>\n",
              "      </button>\n",
              "      \n",
              "  <style>\n",
              "    .colab-df-container {\n",
              "      display:flex;\n",
              "      flex-wrap:wrap;\n",
              "      gap: 12px;\n",
              "    }\n",
              "\n",
              "    .colab-df-convert {\n",
              "      background-color: #E8F0FE;\n",
              "      border: none;\n",
              "      border-radius: 50%;\n",
              "      cursor: pointer;\n",
              "      display: none;\n",
              "      fill: #1967D2;\n",
              "      height: 32px;\n",
              "      padding: 0 0 0 0;\n",
              "      width: 32px;\n",
              "    }\n",
              "\n",
              "    .colab-df-convert:hover {\n",
              "      background-color: #E2EBFA;\n",
              "      box-shadow: 0px 1px 2px rgba(60, 64, 67, 0.3), 0px 1px 3px 1px rgba(60, 64, 67, 0.15);\n",
              "      fill: #174EA6;\n",
              "    }\n",
              "\n",
              "    [theme=dark] .colab-df-convert {\n",
              "      background-color: #3B4455;\n",
              "      fill: #D2E3FC;\n",
              "    }\n",
              "\n",
              "    [theme=dark] .colab-df-convert:hover {\n",
              "      background-color: #434B5C;\n",
              "      box-shadow: 0px 1px 3px 1px rgba(0, 0, 0, 0.15);\n",
              "      filter: drop-shadow(0px 1px 2px rgba(0, 0, 0, 0.3));\n",
              "      fill: #FFFFFF;\n",
              "    }\n",
              "  </style>\n",
              "\n",
              "      <script>\n",
              "        const buttonEl =\n",
              "          document.querySelector('#df-5b65acfd-5d38-463c-8327-16c71119d8a4 button.colab-df-convert');\n",
              "        buttonEl.style.display =\n",
              "          google.colab.kernel.accessAllowed ? 'block' : 'none';\n",
              "\n",
              "        async function convertToInteractive(key) {\n",
              "          const element = document.querySelector('#df-5b65acfd-5d38-463c-8327-16c71119d8a4');\n",
              "          const dataTable =\n",
              "            await google.colab.kernel.invokeFunction('convertToInteractive',\n",
              "                                                     [key], {});\n",
              "          if (!dataTable) return;\n",
              "\n",
              "          const docLinkHtml = 'Like what you see? Visit the ' +\n",
              "            '<a target=\"_blank\" href=https://colab.research.google.com/notebooks/data_table.ipynb>data table notebook</a>'\n",
              "            + ' to learn more about interactive tables.';\n",
              "          element.innerHTML = '';\n",
              "          dataTable['output_type'] = 'display_data';\n",
              "          await google.colab.output.renderOutput(dataTable, element);\n",
              "          const docLink = document.createElement('div');\n",
              "          docLink.innerHTML = docLinkHtml;\n",
              "          element.appendChild(docLink);\n",
              "        }\n",
              "      </script>\n",
              "    </div>\n",
              "  </div>\n",
              "  "
            ]
          },
          "metadata": {},
          "execution_count": 48
        }
      ]
    },
    {
      "cell_type": "code",
      "source": [
        "train_1sent['input'].iloc[203]"
      ],
      "metadata": {
        "colab": {
          "base_uri": "https://localhost:8080/",
          "height": 217
        },
        "id": "RYUXDTCzgTQh",
        "outputId": "8236cb06-52dd-49b6-f316-dd46b930d901"
      },
      "execution_count": null,
      "outputs": [
        {
          "output_type": "execute_result",
          "data": {
            "text/plain": [
              "'신 기자께서는 교육업에 대해서도 특별고용지원 업종 지정을 고려하실 계획이 있으신지를 질문하셨습니다.  <답변> 이번에 특별고용지원 업종으로 네 업종을 지정하게 된 것은 지금 코로나19 상황, 사태로 인해서 피해가 직접적으로 아주 크게 나타나고 있는 업종을 저희가 선정했고, 또 이런 업종의 경우에는 코로나19 상황이 안정화된다 하더라도 업황이 개선되는 데 상당한 시간이 걸릴 것으로 보여지는 그런 업종을 선택했다는 말씀을 드리겠습니다.  그러면서 저희가 이번에 지정을 하면서 지금 6개월로 사실은 지정을 했습니다. 6개월로 지정한 것은 과거의 메르스나 이런 상황을 봤을 때 대개 그것이 지속되는 기간을 저희가 감안해서 6개월로 지정은 하였습니다. 다만, 이것은 상황에 따라서 그 부분은 추가 연장을 할 것인지 아닌지는 그때의 상황을 보면서 더 판단하도록 하겠습니다.  원래 저희가 업종 지정을 착수했을 때하고 지금은, 또 유럽이나 이런 데 코로나19 바이러스가 확산되고 있기 때문에 상황이 어떻게 전개될 지는 상당히 유동적인 것 같습니다. 그래서 이 사항은 좀 더 저희가 살펴보면서 검토하겠다는 말씀드리겠습니다.  교육업종의 경우에는, 이게 교육부나 아니면 교육청의 학원들에 대한 휴업을 강하게 권고하면서 나타나는 현상이라고 저희는 생각하고 있습니다. 그래서 지금 당장은 휴업을 하면서... 휴원 때문에 어려움이 발생하고 있습니다만, 이 상황은 사실은 휴원, 그러니까 개학조치가 이뤄지면 바로 해소가 될 것이기 때문에 좀 우리가 오늘 지정한 네 업종하고는 상황이 다르다고 저희는 생각하고 있습니다.'"
            ],
            "application/vnd.google.colaboratory.intrinsic+json": {
              "type": "string"
            }
          },
          "metadata": {},
          "execution_count": 51
        }
      ]
    },
    {
      "cell_type": "code",
      "source": [
        "train_1sent.sample(10)"
      ],
      "metadata": {
        "colab": {
          "base_uri": "https://localhost:8080/",
          "height": 580
        },
        "id": "pIMdz0fTkmUD",
        "outputId": "a8d77bf2-5e0f-4f37-82eb-d58f9d43104c"
      },
      "execution_count": null,
      "outputs": [
        {
          "output_type": "execute_result",
          "data": {
            "text/plain": [
              "                                                    input  \\\n",
              "26193    이후 금종해 대한수학회장의 진행으로 열린 토론에서는, 깊이있는 사고력으로 사회문제...   \n",
              "92493   올 여름 해파리 피해 미리 막는다\\n 인천‧경기‧충남 권역에서 보름달물해파리 부착유...   \n",
              "11795   중대본이나 중수본 차원에서 클럽 등에 대해서 휴업을 요청한 적은 없습니다. 다만, ...   \n",
              "14768   고민정 더불어민주당은 청와대 부대변인이던 2018년 5월 한 방송에 출연해 문재인 ...   \n",
              "66661   예방접종 후 이상반응으로 의심되어 신고된 사례는 모두 2,883건입니다. 이 중 2...   \n",
              "13497   미·중·러 격돌하는 로봇군대소니 픽처스의 SF 영화 ‘채피’(2015년)에서 스카우...   \n",
              "110526  원자력안전위원장 이은철] \"예.\"\\n배덕광 위원] \"원안위에서 생산되는 문서 특히 ...   \n",
              "79336   오거돈 부산시장이 미투 사건으로 시장직에서 사퇴했다.\\n  오 시장은 23일 오전 ...   \n",
              "88134    환경부 산하 한국환경공단(이사장 장준영)은 공공환경시설의 체계적인 악취관리를 위해...   \n",
              "32758   이 건물은 1928년에 경성재판소로 건립된 법원 건물로, 광복 후 대법원 청사로 사...   \n",
              "\n",
              "                                         sentence_onesent  \n",
              "26193   금 대한수학회장의 진행으로 열린 토론회는 창의적 인재 양성을 위한 다양한 방안이 논...  \n",
              "92493   바닷물 온도 상승과 연안 개발 등으로 번식력이 강한 해파리의 대량 출현으로 어업인들...  \n",
              "11795   중대본은 클럽 등은 고위험시설들이기 때문에 핵심방역수칙 이행을 권고하고 있으며 서울...  \n",
              "14768   문 대통령이 SNS 메세지를 전적으로 직접 쓰는 경우는 거의 없으며 관련 수석실이나...  \n",
              "66661   코로나19 예방접종 후 이상반응으로 의심되어 신고된 사례 2883건 중 2849건은...  \n",
              "13497   미국과 러시아, 중국이 AI를 장착한 자율형 전투로봇 개발에 나선 가운데 미 국방부...  \n",
              "110526  배 위원이 요구한 자료를 조속한 시일 내에 제출할 것을 요구하자 이 위원장은 있으면...  \n",
              "79336   미투 사건으로 사퇴한 오 부산시장은 기자회견을 열고 경중을 떠나 어떤 말과 행동으로...  \n",
              "88134   한국환경공단은 악취발생의 현황과 개선 방안 등을 담은 공공환경시설 악취기술진단 사례...  \n",
              "32758   경성재판소로 만들어진 이 건물은 현재 서울시립미술관으로 사용되고 있으며 전면 현관 ...  "
            ],
            "text/html": [
              "\n",
              "  <div id=\"df-f989c105-eda5-4782-9144-a61c828754b2\">\n",
              "    <div class=\"colab-df-container\">\n",
              "      <div>\n",
              "<style scoped>\n",
              "    .dataframe tbody tr th:only-of-type {\n",
              "        vertical-align: middle;\n",
              "    }\n",
              "\n",
              "    .dataframe tbody tr th {\n",
              "        vertical-align: top;\n",
              "    }\n",
              "\n",
              "    .dataframe thead th {\n",
              "        text-align: right;\n",
              "    }\n",
              "</style>\n",
              "<table border=\"1\" class=\"dataframe\">\n",
              "  <thead>\n",
              "    <tr style=\"text-align: right;\">\n",
              "      <th></th>\n",
              "      <th>input</th>\n",
              "      <th>sentence_onesent</th>\n",
              "    </tr>\n",
              "  </thead>\n",
              "  <tbody>\n",
              "    <tr>\n",
              "      <th>26193</th>\n",
              "      <td>이후 금종해 대한수학회장의 진행으로 열린 토론에서는, 깊이있는 사고력으로 사회문제...</td>\n",
              "      <td>금 대한수학회장의 진행으로 열린 토론회는 창의적 인재 양성을 위한 다양한 방안이 논...</td>\n",
              "    </tr>\n",
              "    <tr>\n",
              "      <th>92493</th>\n",
              "      <td>올 여름 해파리 피해 미리 막는다\\n 인천‧경기‧충남 권역에서 보름달물해파리 부착유...</td>\n",
              "      <td>바닷물 온도 상승과 연안 개발 등으로 번식력이 강한 해파리의 대량 출현으로 어업인들...</td>\n",
              "    </tr>\n",
              "    <tr>\n",
              "      <th>11795</th>\n",
              "      <td>중대본이나 중수본 차원에서 클럽 등에 대해서 휴업을 요청한 적은 없습니다. 다만, ...</td>\n",
              "      <td>중대본은 클럽 등은 고위험시설들이기 때문에 핵심방역수칙 이행을 권고하고 있으며 서울...</td>\n",
              "    </tr>\n",
              "    <tr>\n",
              "      <th>14768</th>\n",
              "      <td>고민정 더불어민주당은 청와대 부대변인이던 2018년 5월 한 방송에 출연해 문재인 ...</td>\n",
              "      <td>문 대통령이 SNS 메세지를 전적으로 직접 쓰는 경우는 거의 없으며 관련 수석실이나...</td>\n",
              "    </tr>\n",
              "    <tr>\n",
              "      <th>66661</th>\n",
              "      <td>예방접종 후 이상반응으로 의심되어 신고된 사례는 모두 2,883건입니다. 이 중 2...</td>\n",
              "      <td>코로나19 예방접종 후 이상반응으로 의심되어 신고된 사례 2883건 중 2849건은...</td>\n",
              "    </tr>\n",
              "    <tr>\n",
              "      <th>13497</th>\n",
              "      <td>미·중·러 격돌하는 로봇군대소니 픽처스의 SF 영화 ‘채피’(2015년)에서 스카우...</td>\n",
              "      <td>미국과 러시아, 중국이 AI를 장착한 자율형 전투로봇 개발에 나선 가운데 미 국방부...</td>\n",
              "    </tr>\n",
              "    <tr>\n",
              "      <th>110526</th>\n",
              "      <td>원자력안전위원장 이은철] \"예.\"\\n배덕광 위원] \"원안위에서 생산되는 문서 특히 ...</td>\n",
              "      <td>배 위원이 요구한 자료를 조속한 시일 내에 제출할 것을 요구하자 이 위원장은 있으면...</td>\n",
              "    </tr>\n",
              "    <tr>\n",
              "      <th>79336</th>\n",
              "      <td>오거돈 부산시장이 미투 사건으로 시장직에서 사퇴했다.\\n  오 시장은 23일 오전 ...</td>\n",
              "      <td>미투 사건으로 사퇴한 오 부산시장은 기자회견을 열고 경중을 떠나 어떤 말과 행동으로...</td>\n",
              "    </tr>\n",
              "    <tr>\n",
              "      <th>88134</th>\n",
              "      <td>환경부 산하 한국환경공단(이사장 장준영)은 공공환경시설의 체계적인 악취관리를 위해...</td>\n",
              "      <td>한국환경공단은 악취발생의 현황과 개선 방안 등을 담은 공공환경시설 악취기술진단 사례...</td>\n",
              "    </tr>\n",
              "    <tr>\n",
              "      <th>32758</th>\n",
              "      <td>이 건물은 1928년에 경성재판소로 건립된 법원 건물로, 광복 후 대법원 청사로 사...</td>\n",
              "      <td>경성재판소로 만들어진 이 건물은 현재 서울시립미술관으로 사용되고 있으며 전면 현관 ...</td>\n",
              "    </tr>\n",
              "  </tbody>\n",
              "</table>\n",
              "</div>\n",
              "      <button class=\"colab-df-convert\" onclick=\"convertToInteractive('df-f989c105-eda5-4782-9144-a61c828754b2')\"\n",
              "              title=\"Convert this dataframe to an interactive table.\"\n",
              "              style=\"display:none;\">\n",
              "        \n",
              "  <svg xmlns=\"http://www.w3.org/2000/svg\" height=\"24px\"viewBox=\"0 0 24 24\"\n",
              "       width=\"24px\">\n",
              "    <path d=\"M0 0h24v24H0V0z\" fill=\"none\"/>\n",
              "    <path d=\"M18.56 5.44l.94 2.06.94-2.06 2.06-.94-2.06-.94-.94-2.06-.94 2.06-2.06.94zm-11 1L8.5 8.5l.94-2.06 2.06-.94-2.06-.94L8.5 2.5l-.94 2.06-2.06.94zm10 10l.94 2.06.94-2.06 2.06-.94-2.06-.94-.94-2.06-.94 2.06-2.06.94z\"/><path d=\"M17.41 7.96l-1.37-1.37c-.4-.4-.92-.59-1.43-.59-.52 0-1.04.2-1.43.59L10.3 9.45l-7.72 7.72c-.78.78-.78 2.05 0 2.83L4 21.41c.39.39.9.59 1.41.59.51 0 1.02-.2 1.41-.59l7.78-7.78 2.81-2.81c.8-.78.8-2.07 0-2.86zM5.41 20L4 18.59l7.72-7.72 1.47 1.35L5.41 20z\"/>\n",
              "  </svg>\n",
              "      </button>\n",
              "      \n",
              "  <style>\n",
              "    .colab-df-container {\n",
              "      display:flex;\n",
              "      flex-wrap:wrap;\n",
              "      gap: 12px;\n",
              "    }\n",
              "\n",
              "    .colab-df-convert {\n",
              "      background-color: #E8F0FE;\n",
              "      border: none;\n",
              "      border-radius: 50%;\n",
              "      cursor: pointer;\n",
              "      display: none;\n",
              "      fill: #1967D2;\n",
              "      height: 32px;\n",
              "      padding: 0 0 0 0;\n",
              "      width: 32px;\n",
              "    }\n",
              "\n",
              "    .colab-df-convert:hover {\n",
              "      background-color: #E2EBFA;\n",
              "      box-shadow: 0px 1px 2px rgba(60, 64, 67, 0.3), 0px 1px 3px 1px rgba(60, 64, 67, 0.15);\n",
              "      fill: #174EA6;\n",
              "    }\n",
              "\n",
              "    [theme=dark] .colab-df-convert {\n",
              "      background-color: #3B4455;\n",
              "      fill: #D2E3FC;\n",
              "    }\n",
              "\n",
              "    [theme=dark] .colab-df-convert:hover {\n",
              "      background-color: #434B5C;\n",
              "      box-shadow: 0px 1px 3px 1px rgba(0, 0, 0, 0.15);\n",
              "      filter: drop-shadow(0px 1px 2px rgba(0, 0, 0, 0.3));\n",
              "      fill: #FFFFFF;\n",
              "    }\n",
              "  </style>\n",
              "\n",
              "      <script>\n",
              "        const buttonEl =\n",
              "          document.querySelector('#df-f989c105-eda5-4782-9144-a61c828754b2 button.colab-df-convert');\n",
              "        buttonEl.style.display =\n",
              "          google.colab.kernel.accessAllowed ? 'block' : 'none';\n",
              "\n",
              "        async function convertToInteractive(key) {\n",
              "          const element = document.querySelector('#df-f989c105-eda5-4782-9144-a61c828754b2');\n",
              "          const dataTable =\n",
              "            await google.colab.kernel.invokeFunction('convertToInteractive',\n",
              "                                                     [key], {});\n",
              "          if (!dataTable) return;\n",
              "\n",
              "          const docLinkHtml = 'Like what you see? Visit the ' +\n",
              "            '<a target=\"_blank\" href=https://colab.research.google.com/notebooks/data_table.ipynb>data table notebook</a>'\n",
              "            + ' to learn more about interactive tables.';\n",
              "          element.innerHTML = '';\n",
              "          dataTable['output_type'] = 'display_data';\n",
              "          await google.colab.output.renderOutput(dataTable, element);\n",
              "          const docLink = document.createElement('div');\n",
              "          docLink.innerHTML = docLinkHtml;\n",
              "          element.appendChild(docLink);\n",
              "        }\n",
              "      </script>\n",
              "    </div>\n",
              "  </div>\n",
              "  "
            ]
          },
          "metadata": {},
          "execution_count": 32
        }
      ]
    },
    {
      "cell_type": "code",
      "source": [
        " train_2_3sent[train_2_3sent['input'].str.contains('@')]  "
      ],
      "metadata": {
        "colab": {
          "base_uri": "https://localhost:8080/",
          "height": 624
        },
        "id": "ANSx9-xQexOL",
        "outputId": "f181157b-70c5-4a14-c6c5-8d89464b5dca"
      },
      "execution_count": null,
      "outputs": [
        {
          "output_type": "execute_result",
          "data": {
            "text/plain": [
              "                                                   input  \\\n",
              "13104   호스피스 간호사가 전하는 말에 의하면 사람은 살아온 대로 죽는다고 한다.\\n  그...   \n",
              "13162  더불어민주당 8·29 전국대의원대회(전당대회)는 사상 초유의 ‘언택트(untact·...   \n",
              "13264   애플 창업자인 스티브 잡스 당시 CEO는 \"개발자 카드 수수료나 앱 호스팅 비용,...   \n",
              "13426   그의 개성 강한 얼굴은 각도를 조금 바꾸는 것만으로 인상이 돌변한다.\\n  덩달아...   \n",
              "13609   일요일 매출만 한달의 18% 작은 법인을 세워 스타필드 하남과 서울 센트럴시티, ...   \n",
              "...                                                  ...   \n",
              "58674   ‘최순실 태블릿PC’의 폰 정보에는 zixi9876@gmail.com과 great...   \n",
              "59675  요 약 \\n연세대학교 미래정부연구센터(센터장, 문명재)와 국회미래연구원(원장, 朴進...   \n",
              "59683  국회미래연구원 연구위원 김홍범\\n(0222249803, hbkimim@nafi.re...   \n",
              "60578   \\n국회 온라인미디어 국회ON은 11월 2일(월)부터 30일(월)까지 국민과 함께...   \n",
              "60654    대한민국국회(국회의장 문희상)는 2019년 대한민국임시의정원 개원 100주년을 ...   \n",
              "\n",
              "                                       sentence_sent_2~3  \n",
              "13104  직장에서 열심히 일하고 자녀를 양육하며 전반생을 마친 세대에게 다행히 후반생에서 다...  \n",
              "13162  더불어민주당 8·29 전국대의원대회(전당대회)는 사상 초유의 ‘언택트(untact·...  \n",
              "13264  구글은 당초 모바일 게임에만 적용하던 인앱 결제 정책을 웹툰·웹소설 등 각종 디지털...  \n",
              "13426  리 워넬 감독은 “엘리자베스 모스는 진실성이란 측면에서 우리 영화의 검열관이기도 했...  \n",
              "13609  일요일 매출만 한달의 18% 작은 법인을 세워 스타필드 하남과 서울 센트럴시티, 대...  \n",
              "...                                                  ...  \n",
              "58674  ‘최순실 태블릿PC’의 폰 정보에는 zixi9876@gmail.com과 greatp...  \n",
              "59675  연세대학교 미래정부연구센터(센터장, 문명재)와 국회미래연구원(원장, 朴進)은 2월 ...  \n",
              "59683  EPTA는 과학기술의 발달이 사회에 미치는 영향을 사전에 예측하고 대응함으로써, 긍...  \n",
              "60578  ‘퀴즈 어셈블리’ 이벤트는 국회ON 홈페이지(www.naon.go.kr)에 접속해 ...  \n",
              "60654  대한민국국회(국회의장 문희상)는 2019년 대한민국임시의정원 개원 100주년을 기념...  \n",
              "\n",
              "[178 rows x 2 columns]"
            ],
            "text/html": [
              "\n",
              "  <div id=\"df-d13fee32-644a-49bf-ad84-f3c442398366\">\n",
              "    <div class=\"colab-df-container\">\n",
              "      <div>\n",
              "<style scoped>\n",
              "    .dataframe tbody tr th:only-of-type {\n",
              "        vertical-align: middle;\n",
              "    }\n",
              "\n",
              "    .dataframe tbody tr th {\n",
              "        vertical-align: top;\n",
              "    }\n",
              "\n",
              "    .dataframe thead th {\n",
              "        text-align: right;\n",
              "    }\n",
              "</style>\n",
              "<table border=\"1\" class=\"dataframe\">\n",
              "  <thead>\n",
              "    <tr style=\"text-align: right;\">\n",
              "      <th></th>\n",
              "      <th>input</th>\n",
              "      <th>sentence_sent_2~3</th>\n",
              "    </tr>\n",
              "  </thead>\n",
              "  <tbody>\n",
              "    <tr>\n",
              "      <th>13104</th>\n",
              "      <td>호스피스 간호사가 전하는 말에 의하면 사람은 살아온 대로 죽는다고 한다.\\n  그...</td>\n",
              "      <td>직장에서 열심히 일하고 자녀를 양육하며 전반생을 마친 세대에게 다행히 후반생에서 다...</td>\n",
              "    </tr>\n",
              "    <tr>\n",
              "      <th>13162</th>\n",
              "      <td>더불어민주당 8·29 전국대의원대회(전당대회)는 사상 초유의 ‘언택트(untact·...</td>\n",
              "      <td>더불어민주당 8·29 전국대의원대회(전당대회)는 사상 초유의 ‘언택트(untact·...</td>\n",
              "    </tr>\n",
              "    <tr>\n",
              "      <th>13264</th>\n",
              "      <td>애플 창업자인 스티브 잡스 당시 CEO는 \"개발자 카드 수수료나 앱 호스팅 비용,...</td>\n",
              "      <td>구글은 당초 모바일 게임에만 적용하던 인앱 결제 정책을 웹툰·웹소설 등 각종 디지털...</td>\n",
              "    </tr>\n",
              "    <tr>\n",
              "      <th>13426</th>\n",
              "      <td>그의 개성 강한 얼굴은 각도를 조금 바꾸는 것만으로 인상이 돌변한다.\\n  덩달아...</td>\n",
              "      <td>리 워넬 감독은 “엘리자베스 모스는 진실성이란 측면에서 우리 영화의 검열관이기도 했...</td>\n",
              "    </tr>\n",
              "    <tr>\n",
              "      <th>13609</th>\n",
              "      <td>일요일 매출만 한달의 18% 작은 법인을 세워 스타필드 하남과 서울 센트럴시티, ...</td>\n",
              "      <td>일요일 매출만 한달의 18% 작은 법인을 세워 스타필드 하남과 서울 센트럴시티, 대...</td>\n",
              "    </tr>\n",
              "    <tr>\n",
              "      <th>...</th>\n",
              "      <td>...</td>\n",
              "      <td>...</td>\n",
              "    </tr>\n",
              "    <tr>\n",
              "      <th>58674</th>\n",
              "      <td>‘최순실 태블릿PC’의 폰 정보에는 zixi9876@gmail.com과 great...</td>\n",
              "      <td>‘최순실 태블릿PC’의 폰 정보에는 zixi9876@gmail.com과 greatp...</td>\n",
              "    </tr>\n",
              "    <tr>\n",
              "      <th>59675</th>\n",
              "      <td>요 약 \\n연세대학교 미래정부연구센터(센터장, 문명재)와 국회미래연구원(원장, 朴進...</td>\n",
              "      <td>연세대학교 미래정부연구센터(센터장, 문명재)와 국회미래연구원(원장, 朴進)은 2월 ...</td>\n",
              "    </tr>\n",
              "    <tr>\n",
              "      <th>59683</th>\n",
              "      <td>국회미래연구원 연구위원 김홍범\\n(0222249803, hbkimim@nafi.re...</td>\n",
              "      <td>EPTA는 과학기술의 발달이 사회에 미치는 영향을 사전에 예측하고 대응함으로써, 긍...</td>\n",
              "    </tr>\n",
              "    <tr>\n",
              "      <th>60578</th>\n",
              "      <td>\\n국회 온라인미디어 국회ON은 11월 2일(월)부터 30일(월)까지 국민과 함께...</td>\n",
              "      <td>‘퀴즈 어셈블리’ 이벤트는 국회ON 홈페이지(www.naon.go.kr)에 접속해 ...</td>\n",
              "    </tr>\n",
              "    <tr>\n",
              "      <th>60654</th>\n",
              "      <td>대한민국국회(국회의장 문희상)는 2019년 대한민국임시의정원 개원 100주년을 ...</td>\n",
              "      <td>대한민국국회(국회의장 문희상)는 2019년 대한민국임시의정원 개원 100주년을 기념...</td>\n",
              "    </tr>\n",
              "  </tbody>\n",
              "</table>\n",
              "<p>178 rows × 2 columns</p>\n",
              "</div>\n",
              "      <button class=\"colab-df-convert\" onclick=\"convertToInteractive('df-d13fee32-644a-49bf-ad84-f3c442398366')\"\n",
              "              title=\"Convert this dataframe to an interactive table.\"\n",
              "              style=\"display:none;\">\n",
              "        \n",
              "  <svg xmlns=\"http://www.w3.org/2000/svg\" height=\"24px\"viewBox=\"0 0 24 24\"\n",
              "       width=\"24px\">\n",
              "    <path d=\"M0 0h24v24H0V0z\" fill=\"none\"/>\n",
              "    <path d=\"M18.56 5.44l.94 2.06.94-2.06 2.06-.94-2.06-.94-.94-2.06-.94 2.06-2.06.94zm-11 1L8.5 8.5l.94-2.06 2.06-.94-2.06-.94L8.5 2.5l-.94 2.06-2.06.94zm10 10l.94 2.06.94-2.06 2.06-.94-2.06-.94-.94-2.06-.94 2.06-2.06.94z\"/><path d=\"M17.41 7.96l-1.37-1.37c-.4-.4-.92-.59-1.43-.59-.52 0-1.04.2-1.43.59L10.3 9.45l-7.72 7.72c-.78.78-.78 2.05 0 2.83L4 21.41c.39.39.9.59 1.41.59.51 0 1.02-.2 1.41-.59l7.78-7.78 2.81-2.81c.8-.78.8-2.07 0-2.86zM5.41 20L4 18.59l7.72-7.72 1.47 1.35L5.41 20z\"/>\n",
              "  </svg>\n",
              "      </button>\n",
              "      \n",
              "  <style>\n",
              "    .colab-df-container {\n",
              "      display:flex;\n",
              "      flex-wrap:wrap;\n",
              "      gap: 12px;\n",
              "    }\n",
              "\n",
              "    .colab-df-convert {\n",
              "      background-color: #E8F0FE;\n",
              "      border: none;\n",
              "      border-radius: 50%;\n",
              "      cursor: pointer;\n",
              "      display: none;\n",
              "      fill: #1967D2;\n",
              "      height: 32px;\n",
              "      padding: 0 0 0 0;\n",
              "      width: 32px;\n",
              "    }\n",
              "\n",
              "    .colab-df-convert:hover {\n",
              "      background-color: #E2EBFA;\n",
              "      box-shadow: 0px 1px 2px rgba(60, 64, 67, 0.3), 0px 1px 3px 1px rgba(60, 64, 67, 0.15);\n",
              "      fill: #174EA6;\n",
              "    }\n",
              "\n",
              "    [theme=dark] .colab-df-convert {\n",
              "      background-color: #3B4455;\n",
              "      fill: #D2E3FC;\n",
              "    }\n",
              "\n",
              "    [theme=dark] .colab-df-convert:hover {\n",
              "      background-color: #434B5C;\n",
              "      box-shadow: 0px 1px 3px 1px rgba(0, 0, 0, 0.15);\n",
              "      filter: drop-shadow(0px 1px 2px rgba(0, 0, 0, 0.3));\n",
              "      fill: #FFFFFF;\n",
              "    }\n",
              "  </style>\n",
              "\n",
              "      <script>\n",
              "        const buttonEl =\n",
              "          document.querySelector('#df-d13fee32-644a-49bf-ad84-f3c442398366 button.colab-df-convert');\n",
              "        buttonEl.style.display =\n",
              "          google.colab.kernel.accessAllowed ? 'block' : 'none';\n",
              "\n",
              "        async function convertToInteractive(key) {\n",
              "          const element = document.querySelector('#df-d13fee32-644a-49bf-ad84-f3c442398366');\n",
              "          const dataTable =\n",
              "            await google.colab.kernel.invokeFunction('convertToInteractive',\n",
              "                                                     [key], {});\n",
              "          if (!dataTable) return;\n",
              "\n",
              "          const docLinkHtml = 'Like what you see? Visit the ' +\n",
              "            '<a target=\"_blank\" href=https://colab.research.google.com/notebooks/data_table.ipynb>data table notebook</a>'\n",
              "            + ' to learn more about interactive tables.';\n",
              "          element.innerHTML = '';\n",
              "          dataTable['output_type'] = 'display_data';\n",
              "          await google.colab.output.renderOutput(dataTable, element);\n",
              "          const docLink = document.createElement('div');\n",
              "          docLink.innerHTML = docLinkHtml;\n",
              "          element.appendChild(docLink);\n",
              "        }\n",
              "      </script>\n",
              "    </div>\n",
              "  </div>\n",
              "  "
            ]
          },
          "metadata": {},
          "execution_count": 17
        }
      ]
    },
    {
      "cell_type": "code",
      "source": [
        "train_1sent['input'].iloc[59683]"
      ],
      "metadata": {
        "colab": {
          "base_uri": "https://localhost:8080/",
          "height": 199
        },
        "id": "0R7JWd-YexLz",
        "outputId": "8a737076-9058-43e0-e085-d3d0206da778"
      },
      "execution_count": null,
      "outputs": [
        {
          "output_type": "execute_result",
          "data": {
            "text/plain": [
              "'국회미래연구원 연구위원 김홍범\\n(0222249803, hbkimim@nafi.re.kr)\\n 2019년 10월 23일 조간 보도를 부탁드립니다.\\n국회미래연구원(원장, 朴進)은 지난 10월 1011일 양일에 걸쳐, 스웨덴 스톡홀름에서 개최된 EPTA 회원국 회의에서, EPTA(European Parliamentary Technology Assessment)의 국제 네트워크에 Associate Membership을 확보하는 데 성공하였다. 회원국들만의 비공개 회의에서 회원으로서의 전제 조건인 국회 지원기관의 역할, 독립적 연구 수행, 독립 예산, 기술영향평가 수행 등 국회미래연구원에 대해 회원국들의 신중한 검토가 이루어졌으며 활발한 논의 끝에 최종적으로 가입이 승인되었다. 그동안 한국과학기술기획평가원(KISTEP) 등에서 멤버쉽 가입을 위해 노력을 하였으나, 회원국 회의에서 부결된 바 있다. \\n■ EPTA 가입의 의의\\nEPTA는 유럽 각국의 의회 중심으로 신기술에 관한 자문을 제공하는 기술영향평가 기관 네트워크로서 올해의 의장국인 스웨덴을 비롯하여 유럽의 12개국(Full member) 및 미국을 비롯한 유럽 이외의 10개(Associate Member)의 국가가 참여하고 있다. 유럽 이외의 국가의 경우 Full Membership이 부여되지 않는다. EPTA는 과학기술의 발달이 사회에 미치는 영향을 사전에 예측하고 대응함으로써, 긍정적인 효과를 극대화하고 부정적인 영향을 최소화하는 목적이 있으며 공동의 아젠다를 확정하고 연구를 진행함으로써 글로벌 이슈에 대한 각국의 상세 연구결과를 공유하고 있다.\\n'"
            ],
            "application/vnd.google.colaboratory.intrinsic+json": {
              "type": "string"
            }
          },
          "metadata": {},
          "execution_count": 20
        }
      ]
    },
    {
      "cell_type": "code",
      "source": [
        "train_20sent[train_20sent['input'].str.contains('@')]"
      ],
      "metadata": {
        "colab": {
          "base_uri": "https://localhost:8080/",
          "height": 641
        },
        "id": "9IP6E_UtexJW",
        "outputId": "f99741c8-adb1-490c-82a0-8b485d6facc6"
      },
      "execution_count": null,
      "outputs": [
        {
          "output_type": "execute_result",
          "data": {
            "text/plain": [
              "                                                   input  \\\n",
              "88      또 초기 조사에서 사람 간 전파나 의료인 감염이 아직 발견되지 않은 점을 미뤄볼 ...   \n",
              "96      기계를 정비할 때 부품 크기에 맞는 공구를 사용해야 완벽하게 수리할 수 있듯이 맞...   \n",
              "329     약효가 휘발되는 것을 막아 수십 배 고농축된 상태의 녹용을 얻을 수 있다.\\n  ...   \n",
              "337    지난 8일(현지시간) 이라크 내 미군기지에 대한 이란의 미사일 공습이 이뤄질 때 해...   \n",
              "845     롯데홈쇼핑은 앞으로 어댑트가 보유하고 있는 콘텐트 제작 능력과 소셜미디어를 기반으...   \n",
              "...                                                  ...   \n",
              "47272   더불어 기억화해미래재단법안명칭에 대해서도 일반국민 63.6%, 전문가 60.1%가...   \n",
              "54534  안녕하세요? 과기정통부 소프트웨어정책관 송경희입니다. 지금부터 내일 총리 주재 국정...   \n",
              "58904  그리고 자진신고 접수창구를 기존 공정위의 신고접수 이메일(leniency@korea...   \n",
              "59421  특허청은 독일 전시회 참가기업을 포함하여 유럽 진출 기업의 지식재산권 관련 애로 해...   \n",
              "61510  3페이지입니다. 요즘 탄소를 원료로 하는 여러 가지 소재 개발이 우리나라에서, 전 ...   \n",
              "\n",
              "                                         sentence_per_20  \n",
              "88     이재갑 한림대 강남성심병원 감염내과 교수는 “섣부르게 판단할 상황은 아니지만, 사스...  \n",
              "96     맞춤형 인공관절 수술의 장점은 세 가지다. 둘째, 인공관절 수술 정확도가 높다. 셋...  \n",
              "329    발효 녹용이 장내 유산균에 미치는 영향을 분석한 경희대 약대 연구팀 연구에 따르면 ...  \n",
              "337    지난 8일(현지시간) 이라크 내 미군기지에 대한 이란의 미사일 공습이 이뤄질 때 해...  \n",
              "845    이뿐 아니라 롯데그룹 사내벤처 공모전에서 ‘홀딩밴드형 기저귀’로 1위를 차지한 전(...  \n",
              "...                                                  ...  \n",
              "47272  더불어 기억화해미래재단법안명칭에 대해서도 일반국민 63.6%, 전문가 60.1%가 ...  \n",
              "54534  특히 가상융합기술은 문화뿐만 아니라 제조, 의료 등 핵심 산업에도 확산되어 2025...  \n",
              "58904  그리고 자진신고 접수창구를 기존 공정위의 신고접수 이메일(leniency@korea...  \n",
              "59421  특허청은 독일 전시회 참가기업을 포함하여 유럽 진출 기업의 지식재산권 관련 애로 해...  \n",
              "61510  요즘 탄소를 원료로 하는 여러 가지 소재 개발이 우리나라에서, 전 세계적으로 각광을...  \n",
              "\n",
              "[200 rows x 2 columns]"
            ],
            "text/html": [
              "\n",
              "  <div id=\"df-61447eb2-8692-418b-9372-f0370fae7079\">\n",
              "    <div class=\"colab-df-container\">\n",
              "      <div>\n",
              "<style scoped>\n",
              "    .dataframe tbody tr th:only-of-type {\n",
              "        vertical-align: middle;\n",
              "    }\n",
              "\n",
              "    .dataframe tbody tr th {\n",
              "        vertical-align: top;\n",
              "    }\n",
              "\n",
              "    .dataframe thead th {\n",
              "        text-align: right;\n",
              "    }\n",
              "</style>\n",
              "<table border=\"1\" class=\"dataframe\">\n",
              "  <thead>\n",
              "    <tr style=\"text-align: right;\">\n",
              "      <th></th>\n",
              "      <th>input</th>\n",
              "      <th>sentence_per_20</th>\n",
              "    </tr>\n",
              "  </thead>\n",
              "  <tbody>\n",
              "    <tr>\n",
              "      <th>88</th>\n",
              "      <td>또 초기 조사에서 사람 간 전파나 의료인 감염이 아직 발견되지 않은 점을 미뤄볼 ...</td>\n",
              "      <td>이재갑 한림대 강남성심병원 감염내과 교수는 “섣부르게 판단할 상황은 아니지만, 사스...</td>\n",
              "    </tr>\n",
              "    <tr>\n",
              "      <th>96</th>\n",
              "      <td>기계를 정비할 때 부품 크기에 맞는 공구를 사용해야 완벽하게 수리할 수 있듯이 맞...</td>\n",
              "      <td>맞춤형 인공관절 수술의 장점은 세 가지다. 둘째, 인공관절 수술 정확도가 높다. 셋...</td>\n",
              "    </tr>\n",
              "    <tr>\n",
              "      <th>329</th>\n",
              "      <td>약효가 휘발되는 것을 막아 수십 배 고농축된 상태의 녹용을 얻을 수 있다.\\n  ...</td>\n",
              "      <td>발효 녹용이 장내 유산균에 미치는 영향을 분석한 경희대 약대 연구팀 연구에 따르면 ...</td>\n",
              "    </tr>\n",
              "    <tr>\n",
              "      <th>337</th>\n",
              "      <td>지난 8일(현지시간) 이라크 내 미군기지에 대한 이란의 미사일 공습이 이뤄질 때 해...</td>\n",
              "      <td>지난 8일(현지시간) 이라크 내 미군기지에 대한 이란의 미사일 공습이 이뤄질 때 해...</td>\n",
              "    </tr>\n",
              "    <tr>\n",
              "      <th>845</th>\n",
              "      <td>롯데홈쇼핑은 앞으로 어댑트가 보유하고 있는 콘텐트 제작 능력과 소셜미디어를 기반으...</td>\n",
              "      <td>이뿐 아니라 롯데그룹 사내벤처 공모전에서 ‘홀딩밴드형 기저귀’로 1위를 차지한 전(...</td>\n",
              "    </tr>\n",
              "    <tr>\n",
              "      <th>...</th>\n",
              "      <td>...</td>\n",
              "      <td>...</td>\n",
              "    </tr>\n",
              "    <tr>\n",
              "      <th>47272</th>\n",
              "      <td>더불어 기억화해미래재단법안명칭에 대해서도 일반국민 63.6%, 전문가 60.1%가...</td>\n",
              "      <td>더불어 기억화해미래재단법안명칭에 대해서도 일반국민 63.6%, 전문가 60.1%가 ...</td>\n",
              "    </tr>\n",
              "    <tr>\n",
              "      <th>54534</th>\n",
              "      <td>안녕하세요? 과기정통부 소프트웨어정책관 송경희입니다. 지금부터 내일 총리 주재 국정...</td>\n",
              "      <td>특히 가상융합기술은 문화뿐만 아니라 제조, 의료 등 핵심 산업에도 확산되어 2025...</td>\n",
              "    </tr>\n",
              "    <tr>\n",
              "      <th>58904</th>\n",
              "      <td>그리고 자진신고 접수창구를 기존 공정위의 신고접수 이메일(leniency@korea...</td>\n",
              "      <td>그리고 자진신고 접수창구를 기존 공정위의 신고접수 이메일(leniency@korea...</td>\n",
              "    </tr>\n",
              "    <tr>\n",
              "      <th>59421</th>\n",
              "      <td>특허청은 독일 전시회 참가기업을 포함하여 유럽 진출 기업의 지식재산권 관련 애로 해...</td>\n",
              "      <td>특허청은 독일 전시회 참가기업을 포함하여 유럽 진출 기업의 지식재산권 관련 애로 해...</td>\n",
              "    </tr>\n",
              "    <tr>\n",
              "      <th>61510</th>\n",
              "      <td>3페이지입니다. 요즘 탄소를 원료로 하는 여러 가지 소재 개발이 우리나라에서, 전 ...</td>\n",
              "      <td>요즘 탄소를 원료로 하는 여러 가지 소재 개발이 우리나라에서, 전 세계적으로 각광을...</td>\n",
              "    </tr>\n",
              "  </tbody>\n",
              "</table>\n",
              "<p>200 rows × 2 columns</p>\n",
              "</div>\n",
              "      <button class=\"colab-df-convert\" onclick=\"convertToInteractive('df-61447eb2-8692-418b-9372-f0370fae7079')\"\n",
              "              title=\"Convert this dataframe to an interactive table.\"\n",
              "              style=\"display:none;\">\n",
              "        \n",
              "  <svg xmlns=\"http://www.w3.org/2000/svg\" height=\"24px\"viewBox=\"0 0 24 24\"\n",
              "       width=\"24px\">\n",
              "    <path d=\"M0 0h24v24H0V0z\" fill=\"none\"/>\n",
              "    <path d=\"M18.56 5.44l.94 2.06.94-2.06 2.06-.94-2.06-.94-.94-2.06-.94 2.06-2.06.94zm-11 1L8.5 8.5l.94-2.06 2.06-.94-2.06-.94L8.5 2.5l-.94 2.06-2.06.94zm10 10l.94 2.06.94-2.06 2.06-.94-2.06-.94-.94-2.06-.94 2.06-2.06.94z\"/><path d=\"M17.41 7.96l-1.37-1.37c-.4-.4-.92-.59-1.43-.59-.52 0-1.04.2-1.43.59L10.3 9.45l-7.72 7.72c-.78.78-.78 2.05 0 2.83L4 21.41c.39.39.9.59 1.41.59.51 0 1.02-.2 1.41-.59l7.78-7.78 2.81-2.81c.8-.78.8-2.07 0-2.86zM5.41 20L4 18.59l7.72-7.72 1.47 1.35L5.41 20z\"/>\n",
              "  </svg>\n",
              "      </button>\n",
              "      \n",
              "  <style>\n",
              "    .colab-df-container {\n",
              "      display:flex;\n",
              "      flex-wrap:wrap;\n",
              "      gap: 12px;\n",
              "    }\n",
              "\n",
              "    .colab-df-convert {\n",
              "      background-color: #E8F0FE;\n",
              "      border: none;\n",
              "      border-radius: 50%;\n",
              "      cursor: pointer;\n",
              "      display: none;\n",
              "      fill: #1967D2;\n",
              "      height: 32px;\n",
              "      padding: 0 0 0 0;\n",
              "      width: 32px;\n",
              "    }\n",
              "\n",
              "    .colab-df-convert:hover {\n",
              "      background-color: #E2EBFA;\n",
              "      box-shadow: 0px 1px 2px rgba(60, 64, 67, 0.3), 0px 1px 3px 1px rgba(60, 64, 67, 0.15);\n",
              "      fill: #174EA6;\n",
              "    }\n",
              "\n",
              "    [theme=dark] .colab-df-convert {\n",
              "      background-color: #3B4455;\n",
              "      fill: #D2E3FC;\n",
              "    }\n",
              "\n",
              "    [theme=dark] .colab-df-convert:hover {\n",
              "      background-color: #434B5C;\n",
              "      box-shadow: 0px 1px 3px 1px rgba(0, 0, 0, 0.15);\n",
              "      filter: drop-shadow(0px 1px 2px rgba(0, 0, 0, 0.3));\n",
              "      fill: #FFFFFF;\n",
              "    }\n",
              "  </style>\n",
              "\n",
              "      <script>\n",
              "        const buttonEl =\n",
              "          document.querySelector('#df-61447eb2-8692-418b-9372-f0370fae7079 button.colab-df-convert');\n",
              "        buttonEl.style.display =\n",
              "          google.colab.kernel.accessAllowed ? 'block' : 'none';\n",
              "\n",
              "        async function convertToInteractive(key) {\n",
              "          const element = document.querySelector('#df-61447eb2-8692-418b-9372-f0370fae7079');\n",
              "          const dataTable =\n",
              "            await google.colab.kernel.invokeFunction('convertToInteractive',\n",
              "                                                     [key], {});\n",
              "          if (!dataTable) return;\n",
              "\n",
              "          const docLinkHtml = 'Like what you see? Visit the ' +\n",
              "            '<a target=\"_blank\" href=https://colab.research.google.com/notebooks/data_table.ipynb>data table notebook</a>'\n",
              "            + ' to learn more about interactive tables.';\n",
              "          element.innerHTML = '';\n",
              "          dataTable['output_type'] = 'display_data';\n",
              "          await google.colab.output.renderOutput(dataTable, element);\n",
              "          const docLink = document.createElement('div');\n",
              "          docLink.innerHTML = docLinkHtml;\n",
              "          element.appendChild(docLink);\n",
              "        }\n",
              "      </script>\n",
              "    </div>\n",
              "  </div>\n",
              "  "
            ]
          },
          "metadata": {},
          "execution_count": 18
        }
      ]
    },
    {
      "cell_type": "code",
      "source": [
        "train_1sent['input'].iloc[58904]"
      ],
      "metadata": {
        "colab": {
          "base_uri": "https://localhost:8080/",
          "height": 253
        },
        "id": "Z84n0ChfexG8",
        "outputId": "69c486d9-c805-4935-aa52-1785b580a483"
      },
      "execution_count": null,
      "outputs": [
        {
          "output_type": "execute_result",
          "data": {
            "text/plain": [
              "' 2010년 출범한 한국전쟁기념재단은 6·25전쟁에 참전한 해외 용사들의 희생을 소중히 여기고 그들에 대한 감사의 마음을 후손들에게 전하고자 설립된 재단이다. 백선엽(白善燁) 장군이 초대 이사장을 맡았다가 작년 12월부터 김 이사장이 맡고 있다.\\n “백선엽 장군은 ‘한 치의 땅도 거저 얻은 것이 없다’고 강조했습니다. 그런데 우리 전후 세대들은 전쟁이 왜 발생했고, 정전협정이 언제 체결됐고, 그 의미가 무엇인지 잘 몰라요. 그래서 저희가 나선 겁니다. 모르면 가르쳐야 해요. 우리 선배 세대들과 해외 참전용사들이 목숨을 맞바꿔 대한민국을 살려냈고 경제발전·민주화의 발판을 마련했다는 점을 알아야 해요. 이제 우리가 전쟁에 참여한 21개 UN연합국의 후손들에게 교육으로 보은할 차례입니다.”\\n —해외 참전용사들은 6·25를 어떤 전쟁으로 인식하고 있습니까.\\n “유엔군이라는 이름으로 여러 나라가 참전한 첫 전쟁입니다. 우리에게 6·25는 동족상잔(同族相殘)이라는 아픈 역사이지만, 해외 참전용사들은 한반도의 공산화를 막고 자유민주주의를 일궈낸 기적의 역사로 받아들이고 있어요. 지금 살아 있는 용사들은 오늘날의 대한민국을 만드는 데 크게 기여했다는 사실을 자랑스럽게 생각하지요.”\\n —6·25의 명칭과 관련해 ‘한국전쟁’이 아니라 ‘6·25남침전쟁’이 정확한 용어라는 의견이 있습니다.\\n “우리 내부에서도 이 같은 논의가 있었습니다. 하지만 우리는 국제적으로 활동하는 기구입니다. 유엔과 미국이 한국전쟁으로 사용하기 때문에 글로벌 관점에서 한국전쟁이라는 용어를 사용하는 겁니다. 사실 외국에서는 전쟁이 발발한 날보다 전쟁이 끝난 날을 더 중요시해요. 그래서 종전(終戰), 정전을 기념하는 겁니다. 2010년 6·25전쟁 60주년을 앞두고 정부 차원에서 ‘6·25전쟁 60주년 기념사업회’를 만들었는데 이때도 내부적으로 논란이 좀 있었지요.”\\n'"
            ],
            "application/vnd.google.colaboratory.intrinsic+json": {
              "type": "string"
            }
          },
          "metadata": {},
          "execution_count": 39
        }
      ]
    },
    {
      "cell_type": "code",
      "source": [
        "train_1sent['sentence_onesent'].iloc[58904]"
      ],
      "metadata": {
        "colab": {
          "base_uri": "https://localhost:8080/",
          "height": 54
        },
        "id": "2vMp-6G-lYbE",
        "outputId": "c689538d-9337-4544-8ed8-867389521662"
      },
      "execution_count": null,
      "outputs": [
        {
          "output_type": "execute_result",
          "data": {
            "text/plain": [
              "'한국전쟁기념재단은 6·25전쟁에 참전한 해외 용사들에 대한 감사의 마음을 후손에게 전하려고 설립된 재단으로 백 장군이 초대 이사장을 맡았다.'"
            ],
            "application/vnd.google.colaboratory.intrinsic+json": {
              "type": "string"
            }
          },
          "metadata": {},
          "execution_count": 37
        }
      ]
    },
    {
      "cell_type": "code",
      "source": [
        "# 전처리 함수 구현\n",
        "\n",
        "def preprocess_sentence(sentence):\n",
        "    sentence = sentence.lower() # 텍스트 소문자화\n",
        "    sentence = re.sub(r'\\([^)]*\\)', '', sentence) # 괄호로 닫힌 문자열 (...) 제거\n",
        "    sentence = re.sub('\"','', sentence) # 쌍따옴표 제거\n",
        "    sentence = re.sub(\"'\",'', sentence) # 따옴표 제거\n",
        "    sentence = re.sub('\\n','', sentence) # \\n \" 제거\n",
        "    sentence = re.sub('.{2,3}\\W{0,1}기자','', sentence) # 기자 이름 제거\n",
        "    sentence = re.sub(r'[?.!,][/?.!,]', '', sentence) # 여러개 문장 부호를 하나의 문장부호로 바꿉니다\n",
        "    sentence = re.sub(\"[^ㄱ-ㅎㅏ-ㅣ가-힣a-z0-9]\", \" \", sentence) # 영어 외 문자(숫자, 특수문자 등) 공백으로 변환\n",
        "    sentence = re.sub(r'[\" \"]+', \" \", sentence) # 여러개 공백을 하나의 공백으로 바꿉니다.\n",
        "    sentence = sentence.strip() # 문장 양쪽 공백 제거\n",
        "\n",
        "    return sentence"
      ],
      "metadata": {
        "id": "wWuISv6sew3O"
      },
      "execution_count": null,
      "outputs": []
    },
    {
      "cell_type": "code",
      "source": [
        "temp_text = '오늘 아이펠은 전면 온라인 교육을 실시하겠다고 선언하였다. 아이펠 연구소장(이승일)은 이 같은 결정을 한 이유는 3가지라고 답했다. 이상 손기락 기자(finger man@naver.com)였습니다.'\n",
        "print(\"text: \", preprocess_sentence(temp_text))"
      ],
      "metadata": {
        "colab": {
          "base_uri": "https://localhost:8080/"
        },
        "id": "bPC4vEZAwSQo",
        "outputId": "f6ee94d9-18b3-4451-ed06-7fbc4a725f57"
      },
      "execution_count": null,
      "outputs": [
        {
          "output_type": "stream",
          "name": "stdout",
          "text": [
            "text:  오늘 아이펠은 전면 온라인 교육을 실시하겠다고 선언하였다 아이펠 연구소장은 이 같은 결정을 한 이유는 3가지라고 답했다 이상 였습니다\n"
          ]
        }
      ]
    },
    {
      "cell_type": "code",
      "source": [
        "# 전처리 테스트\n",
        "\n",
        "temp_text = train_1sent['input'].iloc[203]\n",
        "temp_summary = train_1sent['sentence_onesent'].iloc[203]\n",
        "\n",
        "print(\"text: \", preprocess_sentence(temp_text))\n",
        "print(\"headlines:\", preprocess_sentence(temp_summary))  "
      ],
      "metadata": {
        "colab": {
          "base_uri": "https://localhost:8080/"
        },
        "id": "WIKYnMEtk699",
        "outputId": "ebccacf5-0a4d-4691-e49c-7a3fa196a43a"
      },
      "execution_count": null,
      "outputs": [
        {
          "output_type": "stream",
          "name": "stdout",
          "text": [
            "text:  신 기자께서는 교육업에 대해서도 특별고용지원 업종 지정을 고려하실 계획이 있으신지를 질문하셨습니다 답변 이번에 특별고용지원 업종으로 네 업종을 지정하게 된 것은 지금 코로나19 상황 사태로 인해서 피해가 직접적으로 아주 크게 나타나고 있는 업종을 저희가 선정했고 또 이런 업종의 경우에는 코로나19 상황이 안정화된다 하더라도 업황이 개선되는 데 상당한 시간이 걸릴 것으로 보여지는 그런 업종을 선택했다는 말씀을 드리겠습니다 그러면서 저희가 이번에 지정을 하면서 지금 6개월로 사실은 지정을 했습니다 6개월로 지정한 것은 과거의 메르스나 이런 상황을 봤을 때 대개 그것이 지속되는 기간을 저희가 감안해서 6개월로 지정은 하였습니다 다만 이것은 상황에 따라서 그 부분은 추가 연장을 할 것인지 아닌지는 그때의 상황을 보면서 더 판단하도록 하겠습니다 원래 저희가 업종 지정을 착수했을 때하고 지금은 또 유럽이나 이런 데 코로나19 바이러스가 확산되고 있기 때문에 상황이 어떻게 전개될 지는 상당히 유동적인 것 같습니다 그래서 이 사항은 좀 더 저희가 살펴보면서 검토하겠다는 말씀드리겠습니다 교육업종의 경우에는 이게 교육부나 아니면 교육청의 학원들에 대한 휴업을 강하게 권고하면서 나타나는 현상이라고 저희는 생각하고 있습니다 그래서 지금 당장은 휴업을 하면서 휴원 때문에 어려움이 발생하고 있습니다만 이 상황은 사실은 휴원 그러니까 개학조치가 이뤄지면 바로 해소가 될 것이기 때문에 좀 우리가 오늘 지정한 네 업종하고는 상황이 다르다고 저희는 생각하고 있습니다\n",
            "headlines: 코로나19 사태로 피해가 크게 나타나는 업종을 특별고용지원 업종으로 지정했는데 지속되는 기간을 감안해서 6개월로 지정했고 추가 연장은 상황을 보면서 판단할 것이다\n"
          ]
        }
      ]
    },
    {
      "cell_type": "code",
      "source": [
        "preprocess_sentence(temp_text)"
      ],
      "metadata": {
        "colab": {
          "base_uri": "https://localhost:8080/",
          "height": 217
        },
        "id": "OgkDAXDmlWd3",
        "outputId": "e866f614-5838-4674-f165-bca00d0755d4"
      },
      "execution_count": null,
      "outputs": [
        {
          "output_type": "execute_result",
          "data": {
            "text/plain": [
              "'신 기자께서는 교육업에 대해서도 특별고용지원 업종 지정을 고려하실 계획이 있으신지를 질문하셨습니다 답변 이번에 특별고용지원 업종으로 네 업종을 지정하게 된 것은 지금 코로나19 상황 사태로 인해서 피해가 직접적으로 아주 크게 나타나고 있는 업종을 저희가 선정했고 또 이런 업종의 경우에는 코로나19 상황이 안정화된다 하더라도 업황이 개선되는 데 상당한 시간이 걸릴 것으로 보여지는 그런 업종을 선택했다는 말씀을 드리겠습니다 그러면서 저희가 이번에 지정을 하면서 지금 6개월로 사실은 지정을 했습니다 6개월로 지정한 것은 과거의 메르스나 이런 상황을 봤을 때 대개 그것이 지속되는 기간을 저희가 감안해서 6개월로 지정은 하였습니다 다만 이것은 상황에 따라서 그 부분은 추가 연장을 할 것인지 아닌지는 그때의 상황을 보면서 더 판단하도록 하겠습니다 원래 저희가 업종 지정을 착수했을 때하고 지금은 또 유럽이나 이런 데 코로나19 바이러스가 확산되고 있기 때문에 상황이 어떻게 전개될 지는 상당히 유동적인 것 같습니다 그래서 이 사항은 좀 더 저희가 살펴보면서 검토하겠다는 말씀드리겠습니다 교육업종의 경우에는 이게 교육부나 아니면 교육청의 학원들에 대한 휴업을 강하게 권고하면서 나타나는 현상이라고 저희는 생각하고 있습니다 그래서 지금 당장은 휴업을 하면서 휴원 때문에 어려움이 발생하고 있습니다만 이 상황은 사실은 휴원 그러니까 개학조치가 이뤄지면 바로 해소가 될 것이기 때문에 좀 우리가 오늘 지정한 네 업종하고는 상황이 다르다고 저희는 생각하고 있습니다'"
            ],
            "application/vnd.google.colaboratory.intrinsic+json": {
              "type": "string"
            }
          },
          "metadata": {},
          "execution_count": 54
        }
      ]
    },
    {
      "cell_type": "code",
      "source": [
        "# 전체 Text 데이터에 대한 전처리 (1)\n",
        "from tqdm import tqdm\n",
        "clean_text = []\n",
        "\n",
        "for s in tqdm(train_1sent['input']):\n",
        "  clean_text.append(preprocess_sentence(s))"
      ],
      "metadata": {
        "colab": {
          "base_uri": "https://localhost:8080/"
        },
        "id": "_WSDsZEjJSJ7",
        "outputId": "558fcdb5-0733-4e1b-9d8a-4b0c5c5aaeaf"
      },
      "execution_count": null,
      "outputs": [
        {
          "output_type": "stream",
          "name": "stderr",
          "text": [
            "100%|██████████| 125690/125690 [00:25<00:00, 4865.73it/s]\n"
          ]
        }
      ]
    },
    {
      "cell_type": "code",
      "source": [
        "# 전체 headlines 데이터에 대한 전처리 \n",
        "clean_headlines = []\n",
        "\n",
        "for s in tqdm(train_1sent['sentence_onesent']):\n",
        "  clean_headlines.append(preprocess_sentence(s))"
      ],
      "metadata": {
        "colab": {
          "base_uri": "https://localhost:8080/"
        },
        "id": "knrCnTefLjlA",
        "outputId": "03a8af13-f9af-473c-aa93-e8e38c52cdb0"
      },
      "execution_count": null,
      "outputs": [
        {
          "output_type": "stream",
          "name": "stderr",
          "text": [
            "100%|██████████| 125690/125690 [00:03<00:00, 34705.70it/s]\n"
          ]
        }
      ]
    },
    {
      "cell_type": "code",
      "source": [
        "train_1sent['input'] = clean_text\n",
        "train_1sent['sentence_onesent'] = clean_headlines"
      ],
      "metadata": {
        "id": "r18pRScEqFWP"
      },
      "execution_count": null,
      "outputs": []
    },
    {
      "cell_type": "code",
      "source": [
        "# 전체 Text 데이터에 대한 전처리 (2)\n",
        "from tqdm import tqdm\n",
        "clean_text = []\n",
        "\n",
        "for s in tqdm(train_2_3sent['input']):\n",
        "  clean_text.append(preprocess_sentence(s))"
      ],
      "metadata": {
        "colab": {
          "base_uri": "https://localhost:8080/"
        },
        "outputId": "9c84d504-efc5-4ecc-f54f-deddc7ae7e6f",
        "id": "TNWut8ewqZoa"
      },
      "execution_count": null,
      "outputs": [
        {
          "output_type": "stream",
          "name": "stderr",
          "text": [
            "100%|██████████| 61290/61290 [00:13<00:00, 4494.73it/s]\n"
          ]
        }
      ]
    },
    {
      "cell_type": "code",
      "source": [
        "# 전체 headlines 데이터에 대한 전처리 \n",
        "clean_headlines = []\n",
        "\n",
        "for s in tqdm(train_2_3sent['sentence_sent_2~3']):\n",
        "  clean_headlines.append(preprocess_sentence(s))"
      ],
      "metadata": {
        "colab": {
          "base_uri": "https://localhost:8080/"
        },
        "outputId": "611f4790-3f77-4c78-a04c-898f57f563d1",
        "id": "N-GH8revqZoc"
      },
      "execution_count": null,
      "outputs": [
        {
          "output_type": "stream",
          "name": "stderr",
          "text": [
            "100%|██████████| 61290/61290 [00:03<00:00, 16764.82it/s]\n"
          ]
        }
      ]
    },
    {
      "cell_type": "code",
      "source": [
        "train_2_3sent['input'] = clean_text\n",
        "train_2_3sent['sentence_sent_2'] = clean_headlines"
      ],
      "metadata": {
        "id": "3HTbOD9uqZoe"
      },
      "execution_count": null,
      "outputs": []
    },
    {
      "cell_type": "code",
      "source": [
        "# 전체 Text 데이터에 대한 전처리 (3)\n",
        "from tqdm import tqdm\n",
        "clean_text = []\n",
        "\n",
        "for s in tqdm(train_20sent['input']):\n",
        "  clean_text.append(preprocess_sentence(s))"
      ],
      "metadata": {
        "colab": {
          "base_uri": "https://localhost:8080/"
        },
        "outputId": "6805017f-9a19-461d-8120-cab0a375e6df",
        "id": "fLdtR1ZPqZzo"
      },
      "execution_count": null,
      "outputs": [
        {
          "output_type": "stream",
          "name": "stderr",
          "text": [
            "100%|██████████| 73431/73431 [00:16<00:00, 4522.84it/s]\n"
          ]
        }
      ]
    },
    {
      "cell_type": "code",
      "source": [
        "# 전체 headlines 데이터에 대한 전처리 \n",
        "clean_headlines = []\n",
        "\n",
        "for s in tqdm(train_20sent['sentence_per_20']):\n",
        "  clean_headlines.append(preprocess_sentence(s))"
      ],
      "metadata": {
        "colab": {
          "base_uri": "https://localhost:8080/"
        },
        "outputId": "e5a5d0c7-b1e4-45cd-951c-6b88a93ea06b",
        "id": "fFsxd8PoqZzp"
      },
      "execution_count": null,
      "outputs": [
        {
          "output_type": "stream",
          "name": "stderr",
          "text": [
            "100%|██████████| 73431/73431 [00:03<00:00, 18679.54it/s]\n"
          ]
        }
      ]
    },
    {
      "cell_type": "code",
      "source": [
        "train_20sent['input'] = clean_text\n",
        "train_20sent['sentence_per_20'] = clean_headlines"
      ],
      "metadata": {
        "id": "KGeb2f_2qZzq"
      },
      "execution_count": null,
      "outputs": []
    },
    {
      "cell_type": "markdown",
      "source": [
        "# 데이터 길이 확인\n",
        "- 띄어쓰기를 기준으로 데이터의 길이를 확인하고 적절한 길이를 지정하도록한다."
      ],
      "metadata": {
        "id": "EcFR65rlpmpk"
      }
    },
    {
      "cell_type": "code",
      "source": [
        "# 빈 샘플이 있는지 재확인\n",
        "# 전처리 후의 결과를 다시 데이터프레임에 저장\n",
        "train_1sent['input']\n",
        "train_1sent['sentence_onesent']\n",
        "\n",
        "# 빈 값은 ''으로 변환\n",
        "train_1sent.replace('', np.nan, inplace=True)"
      ],
      "metadata": {
        "id": "JwcSU56hpmJs"
      },
      "execution_count": null,
      "outputs": []
    },
    {
      "cell_type": "markdown",
      "source": [
        "1sent 요약\n",
        "\n",
        "- Input 문자 길이의 평균은 192였고 대부분의 분포는 150 ~ 200사이에 있었다.\n",
        "- 그러므로 encoder_max_length는 150 ~ 200이 적당할 것이다.\n",
        "- sentence_onesent 문자 길이의 평균은 18였고 대부분의 분포는 15 ~ 25사이에 있었다.\n",
        "- 그러므로 decoder_max_length는 15 ~ 25이 적당할 것이다."
      ],
      "metadata": {
        "id": "Y58o0PqA0CsF"
      }
    },
    {
      "cell_type": "code",
      "source": [
        "# 데이터 분리를 위한 sample의 최대 길이 정하기\n",
        "\n",
        "# 길이 분포 출력\n",
        "import matplotlib.pyplot as plt\n",
        "\n",
        "text_len = [len(s.split()) for s in train_1sent['input']]\n",
        "headlines_len = [len(s.split()) for s in train_1sent['sentence_onesent']]\n",
        "\n",
        "print('텍스트의 최소 길이 : {}'.format(np.min(text_len)))\n",
        "print('텍스트의 최대 길이 : {}'.format(np.max(text_len)))\n",
        "print('텍스트의 평균 길이 : {}'.format(np.mean(text_len)))\n",
        "print('헤드라인의 최소 길이 : {}'.format(np.min(headlines_len)))\n",
        "print('헤드라인의 최대 길이 : {}'.format(np.max(headlines_len)))\n",
        "print('헤드라인의 평균 길이 : {}'.format(np.mean(headlines_len)))\n",
        "\n",
        "plt.subplot(1,2,1)\n",
        "plt.boxplot(text_len)\n",
        "plt.title('input')\n",
        "plt.subplot(1,2,2)\n",
        "plt.boxplot(headlines_len)\n",
        "plt.title('sentence_onesent')\n",
        "plt.tight_layout()\n",
        "plt.show()\n",
        "\n",
        "plt.title('input')\n",
        "plt.hist(text_len, bins = 40)\n",
        "plt.xlabel('length of samples')\n",
        "plt.ylabel('number of samples')\n",
        "plt.show()\n",
        "\n",
        "plt.title('sentence_onesent')\n",
        "plt.hist(headlines_len, bins = 40)\n",
        "plt.xlabel('length of samples')\n",
        "plt.ylabel('number of samples')\n",
        "plt.show()\n",
        "\n",
        "# 본문과 헤드라인의 길이 분포를 확인하고 적절한 max_len을 지정해야한다."
      ],
      "metadata": {
        "colab": {
          "base_uri": "https://localhost:8080/",
          "height": 962
        },
        "id": "Zj4yY__v0Fai",
        "outputId": "c69f3339-e77d-43a2-e027-a8e76b5c82de"
      },
      "execution_count": null,
      "outputs": [
        {
          "output_type": "stream",
          "name": "stdout",
          "text": [
            "텍스트의 최소 길이 : 45\n",
            "텍스트의 최대 길이 : 377\n",
            "텍스트의 평균 길이 : 192.80472591296046\n",
            "헤드라인의 최소 길이 : 3\n",
            "헤드라인의 최대 길이 : 31\n",
            "헤드라인의 평균 길이 : 18.48094518259209\n"
          ]
        },
        {
          "output_type": "display_data",
          "data": {
            "text/plain": [
              "<Figure size 432x288 with 2 Axes>"
            ],
            "image/png": "[encoded data removed]"
          },
          "metadata": {
            "needs_background": "light"
          }
        },
        {
          "output_type": "display_data",
          "data": {
            "text/plain": [
              "<Figure size 432x288 with 1 Axes>"
            ],
            "image/png": "[encoded data removed]"
          },
          "metadata": {
            "needs_background": "light"
          }
        },
        {
          "output_type": "display_data",
          "data": {
            "text/plain": [
              "<Figure size 432x288 with 1 Axes>"
            ],
            "image/png": "[encoded data removed]"
          },
          "metadata": {
            "needs_background": "light"
          }
        }
      ]
    },
    {
      "cell_type": "markdown",
      "source": [
        "2~3 sent 요약\n",
        "- Input 문자 길이의 평균은 191였고 대부분의 분포는 150 ~ 200사이에 있었다.\n",
        "- 그러므로 encoder_max_length는 150 ~ 200이 적당할 것이다.\n",
        "- sentence_sent_2 문자 길이의 평균은 40였고 대부분의 분포는 25 ~ 50사이에 있었다.\n",
        "- 그러므로 decoder_max_length는 25 ~ 50이 적당할 것이다."
      ],
      "metadata": {
        "id": "sIlVfSXK0cmp"
      }
    },
    {
      "cell_type": "code",
      "source": [
        "# 빈 샘플이 있는지 재확인\n",
        "# 전처리 후의 결과를 다시 데이터프레임에 저장\n",
        "train_2_3sent['input']\n",
        "train_2_3sent['sentence_sent_2']\n",
        "\n",
        "# 빈 값은 ''으로 변환\n",
        "train_2_3sent.replace('', np.nan, inplace=True)"
      ],
      "metadata": {
        "id": "9s2RaWaE0gHS"
      },
      "execution_count": null,
      "outputs": []
    },
    {
      "cell_type": "code",
      "source": [
        "# 데이터 분리를 위한 sample의 최대 길이 정하기\n",
        "\n",
        "# 길이 분포 출력\n",
        "import matplotlib.pyplot as plt\n",
        "\n",
        "text_len = [len(s.split()) for s in train_2_3sent['input']]\n",
        "headlines_len = [len(s.split()) for s in train_2_3sent['sentence_sent_2']]\n",
        "\n",
        "print('텍스트의 최소 길이 : {}'.format(np.min(text_len)))\n",
        "print('텍스트의 최대 길이 : {}'.format(np.max(text_len)))\n",
        "print('텍스트의 평균 길이 : {}'.format(np.mean(text_len)))\n",
        "print('헤드라인의 최소 길이 : {}'.format(np.min(headlines_len)))\n",
        "print('헤드라인의 최대 길이 : {}'.format(np.max(headlines_len)))\n",
        "print('헤드라인의 평균 길이 : {}'.format(np.mean(headlines_len)))\n",
        "\n",
        "plt.subplot(1,2,1)\n",
        "plt.boxplot(text_len)\n",
        "plt.title('input')\n",
        "plt.subplot(1,2,2)\n",
        "plt.boxplot(headlines_len)\n",
        "plt.title('sentence_sent_2')\n",
        "plt.tight_layout()\n",
        "plt.show()\n",
        "\n",
        "plt.title('input')\n",
        "plt.hist(text_len, bins = 40)\n",
        "plt.xlabel('length of samples')\n",
        "plt.ylabel('number of samples')\n",
        "plt.show()\n",
        "\n",
        "plt.title('sentence_sent_2')\n",
        "plt.hist(headlines_len, bins = 40)\n",
        "plt.xlabel('length of samples')\n",
        "plt.ylabel('number of samples')\n",
        "plt.show()\n",
        "\n",
        "# 본문과 헤드라인의 길이 분포를 확인하고 적절한 max_len을 지정해야한다."
      ],
      "metadata": {
        "colab": {
          "base_uri": "https://localhost:8080/",
          "height": 962
        },
        "id": "s1wj206e0gb0",
        "outputId": "eb02e7d2-da26-42f5-f572-2ef17aed51a0"
      },
      "execution_count": null,
      "outputs": [
        {
          "output_type": "stream",
          "name": "stdout",
          "text": [
            "텍스트의 최소 길이 : 45\n",
            "텍스트의 최대 길이 : 377\n",
            "텍스트의 평균 길이 : 191.24354707130038\n",
            "헤드라인의 최소 길이 : 6\n",
            "헤드라인의 최대 길이 : 190\n",
            "헤드라인의 평균 길이 : 40.77436775983031\n"
          ]
        },
        {
          "output_type": "display_data",
          "data": {
            "text/plain": [
              "<Figure size 432x288 with 2 Axes>"
            ],
            "image/png": "[encoded data removed]"
          },
          "metadata": {
            "needs_background": "light"
          }
        },
        {
          "output_type": "display_data",
          "data": {
            "text/plain": [
              "<Figure size 432x288 with 1 Axes>"
            ],
            "image/png": "[encoded data removed]"
          },
          "metadata": {
            "needs_background": "light"
          }
        },
        {
          "output_type": "display_data",
          "data": {
            "text/plain": [
              "<Figure size 432x288 with 1 Axes>"
            ],
            "image/png": "[encoded data removed]"
          },
          "metadata": {
            "needs_background": "light"
          }
        }
      ]
    },
    {
      "cell_type": "markdown",
      "source": [
        "20% Sent 요약\n",
        "- Input 문자 길이의 평균은 190였고 대부분의 분포는 150 ~ 200사이에 있었다.\n",
        "- 그러므로 encoder_max_length는 150 ~ 200이 적당할 것이다.\n",
        "- sentence_per_20 문자 길이의 평균은 38였고 대부분의 분포는 25 ~ 50사이에 있었다.\n",
        "- 그러므로 decoder_max_length는 25 ~ 50이 적당할 것이다."
      ],
      "metadata": {
        "id": "ZWhGKz3f07fR"
      }
    },
    {
      "cell_type": "code",
      "source": [
        "# 빈 샘플이 있는지 재확인\n",
        "# 전처리 후의 결과를 다시 데이터프레임에 저장\n",
        "train_20sent['input']\n",
        "train_20sent['sentence_per_20']\n",
        "\n",
        "# 빈 값은 ''으로 변환\n",
        "train_20sent.replace('', np.nan, inplace=True)"
      ],
      "metadata": {
        "id": "5fT-F8WV1ArV"
      },
      "execution_count": null,
      "outputs": []
    },
    {
      "cell_type": "code",
      "source": [
        "# 데이터 분리를 위한 sample의 최대 길이 정하기\n",
        "\n",
        "# 길이 분포 출력\n",
        "import matplotlib.pyplot as plt\n",
        "\n",
        "text_len = [len(s.split()) for s in train_20sent['input']]\n",
        "headlines_len = [len(s.split()) for s in train_20sent['sentence_per_20']]\n",
        "\n",
        "print('텍스트의 최소 길이 : {}'.format(np.min(text_len)))\n",
        "print('텍스트의 최대 길이 : {}'.format(np.max(text_len)))\n",
        "print('텍스트의 평균 길이 : {}'.format(np.mean(text_len)))\n",
        "print('헤드라인의 최소 길이 : {}'.format(np.min(headlines_len)))\n",
        "print('헤드라인의 최대 길이 : {}'.format(np.max(headlines_len)))\n",
        "print('헤드라인의 평균 길이 : {}'.format(np.mean(headlines_len)))\n",
        "\n",
        "plt.subplot(1,2,1)\n",
        "plt.boxplot(text_len)\n",
        "plt.title('input')\n",
        "plt.subplot(1,2,2)\n",
        "plt.boxplot(headlines_len)\n",
        "plt.title('sentence_per_20')\n",
        "plt.tight_layout()\n",
        "plt.show()\n",
        "\n",
        "plt.title('input')\n",
        "plt.hist(text_len, bins = 40)\n",
        "plt.xlabel('length of samples')\n",
        "plt.ylabel('number of samples')\n",
        "plt.show()\n",
        "\n",
        "plt.title('sentence_per_20')\n",
        "plt.hist(headlines_len, bins = 40)\n",
        "plt.xlabel('length of samples')\n",
        "plt.ylabel('number of samples')\n",
        "plt.show()\n",
        "\n",
        "# 본문과 헤드라인의 길이 분포를 확인하고 적절한 max_len을 지정해야한다."
      ],
      "metadata": {
        "colab": {
          "base_uri": "https://localhost:8080/",
          "height": 962
        },
        "outputId": "6db23e38-1a94-4eb2-96ec-9b4ca4d8d2cf",
        "id": "kgzYBpwD1ArW"
      },
      "execution_count": null,
      "outputs": [
        {
          "output_type": "stream",
          "name": "stdout",
          "text": [
            "텍스트의 최소 길이 : 46\n",
            "텍스트의 최대 길이 : 401\n",
            "텍스트의 평균 길이 : 190.2462720104588\n",
            "헤드라인의 최소 길이 : 8\n",
            "헤드라인의 최대 길이 : 111\n",
            "헤드라인의 평균 길이 : 38.50057877463197\n"
          ]
        },
        {
          "output_type": "display_data",
          "data": {
            "text/plain": [
              "<Figure size 432x288 with 2 Axes>"
            ],
            "image/png": "[encoded data removed]"
          },
          "metadata": {
            "needs_background": "light"
          }
        },
        {
          "output_type": "display_data",
          "data": {
            "text/plain": [
              "<Figure size 432x288 with 1 Axes>"
            ],
            "image/png": "[encoded data removed]"
          },
          "metadata": {
            "needs_background": "light"
          }
        },
        {
          "output_type": "display_data",
          "data": {
            "text/plain": [
              "<Figure size 432x288 with 1 Axes>"
            ],
            "image/png": "[encoded data removed]"
          },
          "metadata": {
            "needs_background": "light"
          }
        }
      ]
    }
  ]
}